{
 "cells": [
  {
   "cell_type": "code",
   "execution_count": null,
   "metadata": {},
   "outputs": [],
   "source": [
    "# imports\n",
    "import setup_status as ss\n",
    "import pandas as pd\n",
    "import datetime as dt"
   ]
  },
  {
   "cell_type": "markdown",
   "metadata": {},
   "source": [
    "***\n",
    "# **Setup Status Notebook**\n",
    "This notebook creates image holding all critical information about selected stock setup. Each image holds following information\n",
    "- Weekly log chart\n",
    "- Daily chart with supports and pivot points (defined manually for now)\n",
    "- Basic fundamentals information: Earnings growth, sales and EPS\n",
    "\n",
    "### **Single stock result**\n",
    "Here, result is generated only for single selected stock"
   ]
  },
  {
   "cell_type": "code",
   "execution_count": null,
   "metadata": {},
   "outputs": [],
   "source": [
    "# information\n",
    "ticker = \"UPST\"\n",
    "\n",
    "# supports/resistances and pivots\n",
    "# types: 1 = support/resistance; 2 = pivot"
   ]
  },
  {
   "cell_type": "markdown",
   "metadata": {},
   "source": [
    "### **Multiple stocks results** (To be planned and added)\n",
    "Here, multiple results are generated and saved. This is mainly to automatize results from screeners"
   ]
  }
 ],
 "metadata": {
  "language_info": {
   "name": "python"
  },
  "orig_nbformat": 4
 },
 "nbformat": 4,
 "nbformat_minor": 2
}
