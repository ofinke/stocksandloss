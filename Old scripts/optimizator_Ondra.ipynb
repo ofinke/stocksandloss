{
 "cells": [
  {
   "cell_type": "markdown",
   "source": [
    "# Indicator optimization\r\n",
    "---\r\n",
    "This notebook aims to optimize indicator parameters for optimal buy and sell strategies for groups of similar stocks. Group of stocks is analyzed by modified function ```test_strategy()``` from *multiple_analysis_.ipynb* notebook. Main modification to the ```test_strategy()``` is new input, ```pd.Series```, which holds parameters used by specific buy and sell strategy. Optimization is done by maximazing percentage of successful trades, taking into account number of trades."
   ],
   "metadata": {}
  },
  {
   "cell_type": "code",
   "execution_count": null,
   "source": [
    "# imports\r\n",
    "from scraper import stock_daily\r\n",
    "from analyzer import Analyzer\r\n",
    "from IPython.display import display\r\n",
    "import datetime as dt\r\n",
    "import numpy as np\r\n",
    "import pandas as pd\r\n",
    "import matplotlib.pyplot as plt\r\n",
    "import indicators as ind"
   ],
   "outputs": [],
   "metadata": {}
  },
  {
   "cell_type": "markdown",
   "source": [
    "## Define ```test_strategy()```\r\n"
   ],
   "metadata": {}
  },
  {
   "cell_type": "code",
   "execution_count": null,
   "source": [
    "# define parameters Series\r\n"
   ],
   "outputs": [],
   "metadata": {}
  },
  {
   "cell_type": "code",
   "execution_count": null,
   "source": [
    "def test_strategy(ticker=\"None\", ):\r\n",
    "    # create empy series\r\n",
    "    result = {\"ticker\": ticker, \"trades\": np.nan, \"gtrades\": np.nan, \"profit[$]\": np.nan, \"profit[%]\": np.nan, \"hold[%]\": np.nan}\r\n",
    "    result = pd.Series(data=result)\r\n",
    "    # scraping / loading data\r\n",
    "    try:\r\n",
    "        stock = stock_daily(ticker, save=False)\r\n",
    "    except:\r\n",
    "        print(ticker + \": Exception occured during data scraping, skipped.\")\r\n",
    "        return\r\n",
    "    # creating analyzer instance\r\n",
    "    trades = Analyzer(ticker=ticker, data=stock.data)\r\n",
    "    \r\n",
    "    # SETTINGS\r\n",
    "    # stop loss\r\n",
    "    sl = True\r\n",
    "    slval = 0.04\r\n",
    "    # profit taker\r\n",
    "    pt = False\r\n",
    "    ptval = 0.11\r\n",
    "    # repeteated buys\r\n",
    "    rb = False\r\n",
    "    \r\n",
    "    # STRATEGY DEFINITIONS\r\n",
    "    # buy strategy\r\n",
    "    # calculating VFI\r\n",
    "    vfi = ind.vfi(stock.data, period=30, coef=0.2, vcoef=1.5)\r\n",
    "    # calculating VFI histogram trend\r\n",
    "    window = 5\r\n",
    "    trend = vfi[\"histogram\"].rolling(window=window).apply(lambda x: np.polyfit(np.arange(window), x, 1)[0], raw=True).values\r\n",
    "    trend = trend > 0.08\r\n",
    "    # buy signals from stochastic oscilator\r\n",
    "    bss = trades.mb_stoch(period=21, sk=3, sd=5, treshold=20, tcross=\"d\")\r\n",
    "    # finalize buy signals\r\n",
    "    bsf = np.logical_and(trend, bss)\r\n",
    "    # throw exception if buy signal is empty\r\n",
    "    if bsf.sum() == 0:\r\n",
    "        print(ticker + \": No buying signals generated, skipped.\")\r\n",
    "        return\r\n",
    "    # sell strategy\r\n",
    "    # sell after n days\r\n",
    "    ss = np.roll(bsf, 10)\r\n",
    "    ssf = np.repeat([ss,], repeats=np.sum(bsf), axis=0)\r\n",
    "    # sort signals\r\n",
    "    ss = trades.signalSorter(bsf,ssf,rb)\r\n",
    "    \r\n",
    "    # building final strategy\r\n",
    "    trades.strategy(ss, stopLoss=sl, stopLossValue=slval, profitTaker=pt, profitTakerValue=ptval)\r\n",
    "    # evaluating strategy\r\n",
    "    score = trades.profit(capitalForEachTrade=250, comission=2)\r\n",
    "    # summarizing the stock trades\r\n",
    "    result[\"trades\"] = score.shape[0]\r\n",
    "    result[\"gtrades\"] = score[\"Good trade?\"].sum().astype(\"int\")\r\n",
    "    result[\"profit[$]\"] = np.round(score[\"Profit[$]\"].sum(),2)\r\n",
    "    result[\"profit[%]\"] = np.round(score[\"Profit[%]\"].sum(),2)\r\n",
    "    result[\"hold[%]\"] = np.round(100*((trades.data[\"Close\"].iloc[-1]-trades.data[\"Close\"].iloc[0])/trades.data[\"Close\"].iloc[0]),2)\r\n",
    "    return result"
   ],
   "outputs": [],
   "metadata": {}
  }
 ],
 "metadata": {
  "orig_nbformat": 4,
  "language_info": {
   "name": "python"
  }
 },
 "nbformat": 4,
 "nbformat_minor": 2
}