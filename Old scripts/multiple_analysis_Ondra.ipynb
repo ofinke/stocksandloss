{
 "cells": [
  {
   "cell_type": "markdown",
   "source": [
    "# Analysis of multiple stock tickers\r\n",
    "---"
   ],
   "metadata": {}
  },
  {
   "cell_type": "code",
   "execution_count": null,
   "source": [
    "# imports\r\n",
    "from scraper import stock_daily\r\n",
    "from analyzer import Analyzer\r\n",
    "from IPython.display import display\r\n",
    "import datetime as dt\r\n",
    "import numpy as np\r\n",
    "import pandas as pd\r\n",
    "import matplotlib.pyplot as plt\r\n",
    "import indicators as ind"
   ],
   "outputs": [],
   "metadata": {}
  },
  {
   "cell_type": "markdown",
   "source": [
    "## Define ```test_strategy()```\r\n",
    "\r\n",
    "Function ```test_strategy()``` analyses stock ticker using buy and sell strategy defined in the function body utilizing already written system scraping and analazying trades. \r\n",
    "<br><br>\r\n",
    "Input: **ticker**: stock ticker, 4 letter string\r\n",
    "<br>\r\n",
    "Output: **result**: Pandas series in following order: ```ticker, trades, gtrades, profit[$], profit[%], hold[%]```"
   ],
   "metadata": {}
  },
  {
   "cell_type": "code",
   "execution_count": null,
   "source": [
    "def test_strategy(ticker=\"None\"):\r\n",
    "    # create empy series\r\n",
    "    result = {\"ticker\": ticker, \"trades\": np.nan, \"gtrades\": np.nan, \"profit[$]\": np.nan, \"profit[%]\": np.nan, \"hold[%]\": np.nan}\r\n",
    "    result = pd.Series(data=result)\r\n",
    "    # scraping / loading data\r\n",
    "    try:\r\n",
    "        stock = stock_daily(ticker, save=False)\r\n",
    "    except:\r\n",
    "        print(ticker + \": Exception occured during data scraping, skipped.\")\r\n",
    "        return result\r\n",
    "    # creating analyzer instance\r\n",
    "    trades = Analyzer(ticker=ticker, data=stock.data)\r\n",
    "    \r\n",
    "    # SETTINGS\r\n",
    "    # stop loss\r\n",
    "    sl = True\r\n",
    "    slval = 0.06\r\n",
    "    # profit taker\r\n",
    "    pt = False\r\n",
    "    ptval = 0.11\r\n",
    "    # repeteated buys\r\n",
    "    rb = False\r\n",
    "\r\n",
    "    # STRATEGY DEFINITIONS\r\n",
    "    # ================> Buy strategy: SVF\r\n",
    "    # STRATEGY DEFINITIONS\r\n",
    "    # calculating VFI\r\n",
    "    vfi = ind.vfi(stock.data, period=30, coef=0.2, vcoef=1.5)\r\n",
    "    fs = ind.stoch(stock.data, period=5, sk=2, sd=3)\r\n",
    "    # calculating VFI histogram trend\r\n",
    "    window = 3\r\n",
    "    vfi_hist = vfi[\"histogram\"].rolling(window=window).apply(lambda x: np.polyfit(np.arange(window), x, 1)[0], raw=True).values\r\n",
    "    vfi_hist = vfi_hist > 0\r\n",
    "    # VFI trend\r\n",
    "    vfi_trend = vfi[\"vfi\"] > vfi[\"vfi_smooth\"]\r\n",
    "    vfi_conf = np.logical_or(vfi_hist, vfi_trend)\r\n",
    "    # calculating fast stochastic trend\r\n",
    "    window = 4\r\n",
    "    fs_conf = fs[\"k\"].rolling(window=window).apply(lambda x: np.polyfit(np.arange(window), x, 1)[0], raw=True).values\r\n",
    "    fs_conf = fs_conf > 0\r\n",
    "    # buy signals in uptrend\r\n",
    "    bss = trades.mb_stoch(period=21, sk=2, sd=5, treshold=0, tcross=\"d\")\r\n",
    "    # finalize buy signals\r\n",
    "    bsf = np.logical_and(np.logical_and(fs_conf, vfi_conf), bss)\r\n",
    "    # throw exception if buy signal is empty\r\n",
    "    if bsf.sum() == 0:\r\n",
    "        print(ticker + \": No buying signals generated, skipped.\")\r\n",
    "        return result\r\n",
    "    # sell strategy\r\n",
    "    # sell after n days\r\n",
    "    ss = np.roll(bsf, 5)\r\n",
    "    ssf = np.repeat([ss,], repeats=np.sum(bsf), axis=0)\r\n",
    "    # sort signals\r\n",
    "    ss = trades.signalSorter(bsf,ssf,rb)\r\n",
    "    \r\n",
    "    # building final strategy\r\n",
    "    trades.strategy(ss, stopLoss=sl, stopLossValue=slval, profitTaker=pt, profitTakerValue=ptval)\r\n",
    "    # evaluating strategy\r\n",
    "    score = trades.profit(capitalForEachTrade=250, comission=2)\r\n",
    "    # summarizing the stock trades\r\n",
    "    result[\"trades\"] = score.shape[0]\r\n",
    "    result[\"gtrades\"] = score[\"Good trade?\"].sum().astype(\"int\")\r\n",
    "    result[\"profit[$]\"] = np.round(score[\"Profit[$]\"].sum(),2)\r\n",
    "    result[\"profit[%]\"] = np.round(score[\"Profit[%]\"].sum(),2)\r\n",
    "    result[\"hold[%]\"] = np.round(100*((trades.data[\"Close\"].iloc[-1]-trades.data[\"Close\"].iloc[0])/trades.data[\"Close\"].iloc[0]),2)\r\n",
    "    return result"
   ],
   "outputs": [],
   "metadata": {}
  },
  {
   "cell_type": "markdown",
   "source": [
    "## Define stocks to be tested"
   ],
   "metadata": {}
  },
  {
   "cell_type": "code",
   "execution_count": null,
   "source": [
    "iwm = pd.read_excel(\"iwm_top600.xlsx\")\r\n",
    "tickers = iwm[\"ticker\"].to_list()[:100]"
   ],
   "outputs": [],
   "metadata": {}
  },
  {
   "cell_type": "markdown",
   "source": [
    "---\r\n",
    "## Run the analysis"
   ],
   "metadata": {}
  },
  {
   "cell_type": "code",
   "execution_count": null,
   "source": [
    "# define empty dataframe\r\n",
    "data = pd.DataFrame(columns=[\"ticker\", \"trades\", \"gtrades\", \"srate\", \"profit[$]\", \"profit[%]\", \"hold[%]\"])\r\n",
    "# run analysis\r\n",
    "for i in tickers:\r\n",
    "    res = test_strategy(i).to_frame().T\r\n",
    "    data = data.append(res, ignore_index=True)\r\n",
    "\r\n",
    "data[\"srate\"] = np.round((data[\"gtrades\"]/data[\"trades\"]*100).astype(\"float\"), 2)\r\n",
    "\r\n",
    "display(data)"
   ],
   "outputs": [],
   "metadata": {}
  },
  {
   "cell_type": "markdown",
   "source": [
    "## Evaluate the results"
   ],
   "metadata": {}
  },
  {
   "cell_type": "code",
   "execution_count": null,
   "source": [
    "worst = data[\"srate\"].astype(\"float\").idxmin()\r\n",
    "best = data[\"srate\"].astype(\"float\").idxmax()\r\n",
    "\r\n",
    "print(\"Best result from \"+data.loc[best, \"ticker\"]+\" with \"+str(data.loc[best, \"srate\"])+\"% winrate over \"+str(data.loc[best, \"trades\"])+\" trades.\")\r\n",
    "print(\"Worst result from \"+data.loc[worst, \"ticker\"]+\" with \"+str(data.loc[worst, \"srate\"])+\"% winrate over \"+str(data.loc[worst, \"trades\"])+\" trades.\")\r\n",
    "print(\"This test took \"+str(data[\"trades\"].sum())+\" trades over \"+str(data.shape[0])+\" tickers.\")"
   ],
   "outputs": [],
   "metadata": {}
  },
  {
   "cell_type": "code",
   "execution_count": null,
   "source": [
    "fig, ax = plt.subplots(figsize=(8,8), facecolor=\"white\")\r\n",
    "\r\n",
    "ax.pie([data[\"gtrades\"].sum(), data[\"trades\"].sum()-data[\"gtrades\"].sum()], colors=[\"g\",\"r\"], shadow=True, explode=(0.1, 0), autopct=\"%1.1f%%\")\r\n",
    "ax.set_title(\"Overal success rate of the strategy\", fontsize=20)"
   ],
   "outputs": [],
   "metadata": {}
  }
 ],
 "metadata": {
  "orig_nbformat": 4,
  "language_info": {
   "name": "python",
   "version": "3.7.10",
   "mimetype": "text/x-python",
   "codemirror_mode": {
    "name": "ipython",
    "version": 3
   },
   "pygments_lexer": "ipython3",
   "nbconvert_exporter": "python",
   "file_extension": ".py"
  },
  "kernelspec": {
   "name": "python3",
   "display_name": "Python 3.7.10 64-bit ('base': conda)"
  },
  "interpreter": {
   "hash": "b3ba2566441a7c06988d0923437866b63cedc61552a5af99d1f4fb67d367b25f"
  }
 },
 "nbformat": 4,
 "nbformat_minor": 2
}