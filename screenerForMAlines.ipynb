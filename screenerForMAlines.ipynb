{
 "cells": [
  {
   "cell_type": "markdown",
   "source": [
    "# Single analysis notebook\r\n",
    "\r\n",
    "This notebook aims to create enviroment to simply test strategies developed in Stocks & Loss system for python"
   ],
   "metadata": {}
  },
  {
   "cell_type": "code",
   "execution_count": 10,
   "source": [
    "# imports \r\n",
    "from scraper import stock_daily\r\n",
    "from analyzer import Analyzer\r\n",
    "from IPython.display import display\r\n",
    "import pandas as pd\r\n",
    "import datetime as dt\r\n",
    "import numpy as np\r\n",
    "import matplotlib.pyplot as plt\r\n",
    "import indicators as ind\r\n",
    "import warnings\r\n",
    "\r\n",
    "warnings.filterwarnings('ignore')"
   ],
   "outputs": [],
   "metadata": {}
  },
  {
   "cell_type": "markdown",
   "source": [
    "## Settings\r\n",
    "* Select stock ticker\r\n",
    "* Define buy and sell strategy (buystrat and sellstrat)\r\n",
    "* Define if you want to run stop loss and what value\r\n",
    "* Same with profit taker"
   ],
   "metadata": {}
  },
  {
   "cell_type": "code",
   "execution_count": 11,
   "source": [
    "xls = pd.ExcelFile('tickers.xlsx')\r\n",
    "# stop loss\r\n",
    "sl = True\r\n",
    "slval = 0.04\r\n",
    "# profit taker\r\n",
    "pt = False\r\n",
    "ptval = 0.2\r\n",
    "# repeteated buys\r\n",
    "rb = False"
   ],
   "outputs": [],
   "metadata": {}
  },
  {
   "cell_type": "markdown",
   "source": [
    "## Running calculation"
   ],
   "metadata": {}
  },
  {
   "cell_type": "code",
   "execution_count": 12,
   "source": [
    "chosen = pd.DataFrame()\r\n",
    "fundTickers = pd.DataFrame()\r\n",
    "Tickers = pd.DataFrame()\r\n",
    "fundTickers[\"Fund/sector name\"] = xls.sheet_names\r\n",
    "print(fundTickers)\r\n",
    "# Tickers = pd.DataFrame(,columns=funTickers[\"Index fund name\"])\r\n",
    "for i in range(len(xls.sheet_names)):\r\n",
    "    sheet1 = pd.read_excel(xls, i)\r\n",
    "    fundTickers.loc[i,[\"Fund/sector ticker\"]] = sheet1.columns[1]\r\n",
    "    Tickers[fundTickers.loc[i,[\"Fund/sector name\"]]] = sheet1[sheet1.columns[1]][1:]\r\n",
    "pd.set_option('display.expand_frame_repr', False)    \r\n",
    "# display(Tickers)\r\n",
    "# I have the initialization here on purpose, to measure its impact\r\n",
    "col = [\"Ticker\", \"Trades\", \"Good trades\", \"Profit[%]\", \"Profit[$]\", \"Hold[%]\"]\r\n",
    "results = [None] * Tickers.columns.shape[0]\r\n",
    "for k in range(Tickers.columns.shape[0]):\r\n",
    "    # when I tried to initialize results as [dataframe] * 10 it created list of identical dataframes and when i changed one, it changed them all. Interesting\r\n",
    "    results[k] = pd.DataFrame(data=np.zeros([Tickers.shape[0], len(col)]),columns=col)\r\n",
    "# iterate over columns\r\n",
    "i = 0 \r\n",
    "for label, tic in Tickers.iteritems():\r\n",
    "    print(label)\r\n",
    "    # iterate over items in sectors / indexes\r\n",
    "    for j, val in tic.iteritems():\r\n",
    "        # j starts at 1, instead of usual 0 => reason why there is -1 everywhere\r\n",
    "        # analyze stock\r\n",
    "        try:\r\n",
    "            stock = stock_daily(val, save=False)\r\n",
    "            trades = Analyzer(ticker=val,data=stock.data)\r\n",
    "            SMA = 200\r\n",
    "            bounces = trades.bouncesFrom_SMA(SMA)\r\n",
    "            smaLine=ind.sma(stock.data,SMA,price=\"Close\")[\"SMA\"]\r\n",
    "            dropsBelowSMA = np.where(stock.data[\"Close\"][-200:]-smaLine[-200:]<0)[0]  #we look at stock that are above the given SMA line for the past 100 days\r\n",
    "            if bounces.size>1 and dropsBelowSMA.size == 0 and (stock.data[\"Close\"].iat[-1]-smaLine.iat[-1])/smaLine.iloc[-1]<0.05: #previous bounces from SMA, above SMA for 100 days and just above SMA the previous day\r\n",
    "                chosen = chosen.append({\"Bounces\": bounces.size,\"MA\": SMA,\"Ticker\": stock.ticker}, ignore_index=True)\r\n",
    "                # print(stock.ticker,\"had\",bounces.size,\"bounces from \",SMA,\"SMA in the past\",SMA,\"days and is currently <5% higher.\")            \r\n",
    "            SMA = 150\r\n",
    "            bounces = trades.bouncesFrom_SMA(SMA)\r\n",
    "            smaLine=ind.sma(stock.data,SMA,price=\"Close\")[\"SMA\"]\r\n",
    "            dropsBelowSMA = np.where(stock.data[\"Close\"][-150:]-smaLine[-150:]<0)[0]\r\n",
    "            if bounces.size>1 and dropsBelowSMA.size == 0 and (stock.data[\"Close\"].iat[-1]-smaLine.iat[-1])/smaLine.iat[-1]<0.05:\r\n",
    "                chosen = chosen.append({\"Bounces\": bounces.size,\"MA\": SMA,\"Ticker\": stock.ticker}, ignore_index=True)\r\n",
    "                # print(stock.ticker,\"had\",bounces.size,\"bounces from \",SMA,\"SMA in the past\",SMA,\"days and is currently <5% higher.\")           \r\n",
    "            SMA = 100\r\n",
    "            bounces = trades.bouncesFrom_SMA(SMA)\r\n",
    "            smaLine=ind.sma(stock.data,SMA,price=\"Close\")[\"SMA\"]\r\n",
    "            dropsBelowSMA = np.where(stock.data[\"Close\"][-100:]-smaLine[-100:]<0)[0]\r\n",
    "            if bounces.size>1 and dropsBelowSMA.size == 0 and (stock.data[\"Close\"].iat[-1]-smaLine.iat[-1])/smaLine.iat[-1]<0.05:\r\n",
    "                chosen = chosen.append({\"Bounces\": bounces.size,\"MA\": SMA,\"Ticker\": stock.ticker}, ignore_index=True)\r\n",
    "                # print(stock.ticker,\"had\",bounces.size,\"bounces from \",SMA,\"SMA in the past\",SMA,\"days and is currently <5% higher.\")                \r\n",
    "            SMA = 50\r\n",
    "            bounces = trades.bouncesFrom_SMA(SMA)\r\n",
    "            smaLine=ind.sma(stock.data,SMA,price=\"Close\")[\"SMA\"]\r\n",
    "            dropsBelowSMA = np.where(stock.data[\"Close\"][-50:]-smaLine[-50:]<0)[0]\r\n",
    "            if bounces.size>1 and dropsBelowSMA.size == 0 and (stock.data[\"Close\"].iat[-1]-smaLine.iat[-1])/smaLine.iat[-1]<0.05:\r\n",
    "                chosen = chosen.append({\"Bounces\": bounces.size,\"MA\": SMA,\"Ticker\": stock.ticker}, ignore_index=True)\r\n",
    "                # print(stock.ticker,\"had\",bounces.size,\"bounces from \",SMA,\"SMA in the past\",SMA,\"days and is currently <5% higher.\")                    \r\n",
    "            SMA = 26\r\n",
    "            bounces = trades.bouncesFrom_SMA(SMA)\r\n",
    "            smaLine=ind.sma(stock.data,SMA,price=\"Close\")[\"SMA\"]\r\n",
    "            dropsBelowSMA = np.where(stock.data[\"Close\"][-26:]-smaLine[-26:]<0)[0]\r\n",
    "            if bounces.size>1 and dropsBelowSMA.size == 0 and (stock.data[\"Close\"].iat[-1]-smaLine.iat[-1])/smaLine.iat[-1]<0.05:\r\n",
    "                chosen = chosen.append({\"Bounces\": bounces.size,\"MA\": SMA,\"Ticker\": stock.ticker}, ignore_index=True)\r\n",
    "                # print(stock.ticker,\"had\",bounces.size,\"bounces from \",SMA,\"SMA in the past\",SMA,\"days and is currently <5% higher.\")                       \r\n",
    "            SMA = 13\r\n",
    "            bounces = trades.bouncesFrom_SMA(SMA)\r\n",
    "            smaLine=ind.sma(stock.data,SMA,price=\"Close\")[\"SMA\"]\r\n",
    "            dropsBelowSMA = np.where(stock.data[\"Close\"][-13:]-smaLine[-13:]<0)[0]\r\n",
    "            if bounces.size>1 and dropsBelowSMA.size == 0 and (stock.data[\"Close\"].iat[-1]-smaLine.iat[-1])/smaLine.iat[-1]<0.05:\r\n",
    "                chosen = chosen.append({\"Bounces\": bounces.size,\"MA\": SMA,\"Ticker\": stock.ticker}, ignore_index=True)\r\n",
    "                # print(stock.ticker,\"had\",bounces.size,\"bounces from \",SMA,\"SMA in the past\",SMA,\"days and is currently <5% higher.\")                    \r\n",
    "        except:\r\n",
    "            results[i].loc[j-1,[\"Ticker\"]] = val         "
   ],
   "outputs": [
    {
     "output_type": "stream",
     "name": "stdout",
     "text": [
      "  Fund/sector name\n",
      "0         filtered\n",
      "filtered\n"
     ]
    }
   ],
   "metadata": {}
  },
  {
   "cell_type": "code",
   "execution_count": 13,
   "source": [
    "print(chosen)\r\n",
    "chosen.to_excel('smaRussel.xlsx')"
   ],
   "outputs": [
    {
     "output_type": "stream",
     "name": "stdout",
     "text": [
      "   Bounces     MA Ticker\n",
      "0      2.0  100.0   CATO\n",
      "1      4.0   50.0   CLDX\n"
     ]
    }
   ],
   "metadata": {}
  },
  {
   "cell_type": "markdown",
   "source": [
    "## Building the trade strategy"
   ],
   "metadata": {}
  },
  {
   "cell_type": "code",
   "execution_count": 14,
   "source": [
    "# building buy signals\r\n",
    "# defining uptrend\r\n",
    "up = (ind.ema(stock.data, w=13)[\"EMA\"] > ind.ema(stock.data, w=50)[\"EMA\"]).to_numpy()\r\n",
    "# buy signals in uptrend\r\n",
    "bsu = np.logical_and(trades.mb_stoch(period=21, sk=3, sd=5, treshold=20), up)\r\n",
    "# buy signals in downtrend\r\n",
    "bsd = np.logical_and(trades.mb_stoch(period=21, sk=3, sd=5, treshold=50), np.logical_not(up))\r\n",
    "# finalize buy signals\r\n",
    "bsf = np.logical_or(bsu, bsd)\r\n",
    "#buy signal from sma cross\r\n",
    "\r\n",
    "# throw exception if buy signal is empty\r\n",
    "if bsf.sum() == 0:\r\n",
    "    raise RuntimeError(\"No buy signals were generated by this strategy.\")\r\n",
    "# for N buy signals, create N sell vectors where Nth column will be the sell signal for Nth buy signal, \r\n",
    "# some sell methods that are independent will have copied columns\r\n",
    "bsf2 = bsf*1\r\n",
    "ss = trades.ms_smacross(fast=5, slow=20)\r\n",
    "\r\n",
    "ssf = np.repeat([ss,], repeats=np.sum(bsf), axis=0)\r\n",
    "# sort signals \r\n",
    "ss = trades.signalSorter(bsf2,ssf,rb) "
   ],
   "outputs": [],
   "metadata": {}
  },
  {
   "cell_type": "code",
   "execution_count": 15,
   "source": [
    "# building final strategy\r\n",
    "trades.strategy(ss, stopLoss=sl, stopLossValue=slval, profitTaker=pt, profitTakerValue=ptval)\r\n",
    "# evaluating strategy\r\n",
    "summary = trades.profit(capitalForEachTrade=400, comission=2)\r\n",
    "profitByHolding = 100*((trades.data[\"Close\"].iloc[-1]-trades.data[\"Close\"].iloc[0])/trades.data[\"Close\"].iloc[0])\r\n",
    "\r\n",
    "# dates for plot\r\n",
    "# taking stock.data and changing index to column and Date to index\r\n",
    "dates = stock.data.copy()\r\n",
    "dates[\"index1\"] = dates.index\r\n",
    "dates = dates.set_index(\"Date\")\r\n",
    "\r\n",
    "# find index of buy dates of good trades\r\n",
    "bdg = summary[\"Buy date\"].where(summary[\"Good trade?\"].astype(\"bool\")).dropna().to_numpy()\r\n",
    "sdg = summary[\"Sell date\"].where(summary[\"Good trade?\"].astype(\"bool\")).dropna().to_numpy()\r\n",
    "bdg = dates[\"index1\"].reindex(bdg).to_numpy()\r\n",
    "sdg = dates[\"index1\"].reindex(sdg).to_numpy()\r\n",
    "   \r\n",
    "# find index of buy dates of bad trades\r\n",
    "bdb = summary[\"Buy date\"].where(~summary[\"Good trade?\"].astype(\"bool\")).dropna().to_numpy()\r\n",
    "sdb = summary[\"Sell date\"].where(~summary[\"Good trade?\"].astype(\"bool\")).dropna().to_numpy()\r\n",
    "bdb = dates[\"index1\"].reindex(bdb).to_numpy()\r\n",
    "sdb = dates[\"index1\"].reindex(sdb).to_numpy()"
   ],
   "outputs": [],
   "metadata": {}
  },
  {
   "cell_type": "markdown",
   "source": [
    "# Results"
   ],
   "metadata": {}
  },
  {
   "cell_type": "code",
   "execution_count": 16,
   "source": [
    "print('Absolute profit last year:                ',np.round(summary[\"Profit[$]\"].sum(),2),'$')\r\n",
    "print('Relative profit last year:                ',np.round(summary[\"Profit[%]\"].sum(),2),'%')\r\n",
    "print('Relative profit by holding last year:     ',np.round(profitByHolding,2),'%')"
   ],
   "outputs": [
    {
     "output_type": "stream",
     "name": "stdout",
     "text": [
      "Absolute profit last year:                 40.82 $\n",
      "Relative profit last year:                 10.21 %\n",
      "Relative profit by holding last year:      24.19 %\n"
     ]
    }
   ],
   "metadata": {}
  },
  {
   "cell_type": "code",
   "execution_count": 17,
   "source": [
    "display(summary)"
   ],
   "outputs": [
    {
     "output_type": "display_data",
     "data": {
      "text/plain": [
       "    Buy date   Buy price  Buy value  Position  Sell date  Sell price  Sell value  Comission  Good trade?  Profit[%]  Profit[$]\n",
       "0 2021-01-21   91.529999        400  4.370152 2021-01-22   92.790001  405.506401          2          1.0   0.876600   3.506401\n",
       "1 2021-02-03   87.889999        400  4.551144 2021-02-04   87.839996  399.772429          2          0.0  -0.556893  -2.227571\n",
       "2 2021-02-25   82.419998        400  4.853191 2021-02-26   84.510002  410.143189          2          1.0   2.035797   8.143189\n",
       "3 2021-03-10   77.519997        400  5.159959 2021-03-11   81.230003  419.143482          2          1.0   4.285871  17.143482\n",
       "4 2021-03-31   78.500000        400  5.095541 2021-04-01   81.089996  413.197434          2          1.0   2.799358  11.197434\n",
       "5 2021-05-11   76.830002        400  5.206299 2021-05-12   74.639999  388.598191          2          0.0  -3.350452 -13.401809\n",
       "6 2021-05-18   74.440002        400  5.373455 2021-05-19   76.230003  409.618489          2          1.0   1.904622   7.618489\n",
       "7 2021-10-06  103.639999        400  3.859514 2021-10-07  106.449997  410.845224          2          1.0   2.211306   8.845224"
      ],
      "text/html": [
       "<div>\n",
       "<style scoped>\n",
       "    .dataframe tbody tr th:only-of-type {\n",
       "        vertical-align: middle;\n",
       "    }\n",
       "\n",
       "    .dataframe tbody tr th {\n",
       "        vertical-align: top;\n",
       "    }\n",
       "\n",
       "    .dataframe thead th {\n",
       "        text-align: right;\n",
       "    }\n",
       "</style>\n",
       "<table border=\"1\" class=\"dataframe\">\n",
       "  <thead>\n",
       "    <tr style=\"text-align: right;\">\n",
       "      <th></th>\n",
       "      <th>Buy date</th>\n",
       "      <th>Buy price</th>\n",
       "      <th>Buy value</th>\n",
       "      <th>Position</th>\n",
       "      <th>Sell date</th>\n",
       "      <th>Sell price</th>\n",
       "      <th>Sell value</th>\n",
       "      <th>Comission</th>\n",
       "      <th>Good trade?</th>\n",
       "      <th>Profit[%]</th>\n",
       "      <th>Profit[$]</th>\n",
       "    </tr>\n",
       "  </thead>\n",
       "  <tbody>\n",
       "    <tr>\n",
       "      <th>0</th>\n",
       "      <td>2021-01-21</td>\n",
       "      <td>91.529999</td>\n",
       "      <td>400</td>\n",
       "      <td>4.370152</td>\n",
       "      <td>2021-01-22</td>\n",
       "      <td>92.790001</td>\n",
       "      <td>405.506401</td>\n",
       "      <td>2</td>\n",
       "      <td>1.0</td>\n",
       "      <td>0.876600</td>\n",
       "      <td>3.506401</td>\n",
       "    </tr>\n",
       "    <tr>\n",
       "      <th>1</th>\n",
       "      <td>2021-02-03</td>\n",
       "      <td>87.889999</td>\n",
       "      <td>400</td>\n",
       "      <td>4.551144</td>\n",
       "      <td>2021-02-04</td>\n",
       "      <td>87.839996</td>\n",
       "      <td>399.772429</td>\n",
       "      <td>2</td>\n",
       "      <td>0.0</td>\n",
       "      <td>-0.556893</td>\n",
       "      <td>-2.227571</td>\n",
       "    </tr>\n",
       "    <tr>\n",
       "      <th>2</th>\n",
       "      <td>2021-02-25</td>\n",
       "      <td>82.419998</td>\n",
       "      <td>400</td>\n",
       "      <td>4.853191</td>\n",
       "      <td>2021-02-26</td>\n",
       "      <td>84.510002</td>\n",
       "      <td>410.143189</td>\n",
       "      <td>2</td>\n",
       "      <td>1.0</td>\n",
       "      <td>2.035797</td>\n",
       "      <td>8.143189</td>\n",
       "    </tr>\n",
       "    <tr>\n",
       "      <th>3</th>\n",
       "      <td>2021-03-10</td>\n",
       "      <td>77.519997</td>\n",
       "      <td>400</td>\n",
       "      <td>5.159959</td>\n",
       "      <td>2021-03-11</td>\n",
       "      <td>81.230003</td>\n",
       "      <td>419.143482</td>\n",
       "      <td>2</td>\n",
       "      <td>1.0</td>\n",
       "      <td>4.285871</td>\n",
       "      <td>17.143482</td>\n",
       "    </tr>\n",
       "    <tr>\n",
       "      <th>4</th>\n",
       "      <td>2021-03-31</td>\n",
       "      <td>78.500000</td>\n",
       "      <td>400</td>\n",
       "      <td>5.095541</td>\n",
       "      <td>2021-04-01</td>\n",
       "      <td>81.089996</td>\n",
       "      <td>413.197434</td>\n",
       "      <td>2</td>\n",
       "      <td>1.0</td>\n",
       "      <td>2.799358</td>\n",
       "      <td>11.197434</td>\n",
       "    </tr>\n",
       "    <tr>\n",
       "      <th>5</th>\n",
       "      <td>2021-05-11</td>\n",
       "      <td>76.830002</td>\n",
       "      <td>400</td>\n",
       "      <td>5.206299</td>\n",
       "      <td>2021-05-12</td>\n",
       "      <td>74.639999</td>\n",
       "      <td>388.598191</td>\n",
       "      <td>2</td>\n",
       "      <td>0.0</td>\n",
       "      <td>-3.350452</td>\n",
       "      <td>-13.401809</td>\n",
       "    </tr>\n",
       "    <tr>\n",
       "      <th>6</th>\n",
       "      <td>2021-05-18</td>\n",
       "      <td>74.440002</td>\n",
       "      <td>400</td>\n",
       "      <td>5.373455</td>\n",
       "      <td>2021-05-19</td>\n",
       "      <td>76.230003</td>\n",
       "      <td>409.618489</td>\n",
       "      <td>2</td>\n",
       "      <td>1.0</td>\n",
       "      <td>1.904622</td>\n",
       "      <td>7.618489</td>\n",
       "    </tr>\n",
       "    <tr>\n",
       "      <th>7</th>\n",
       "      <td>2021-10-06</td>\n",
       "      <td>103.639999</td>\n",
       "      <td>400</td>\n",
       "      <td>3.859514</td>\n",
       "      <td>2021-10-07</td>\n",
       "      <td>106.449997</td>\n",
       "      <td>410.845224</td>\n",
       "      <td>2</td>\n",
       "      <td>1.0</td>\n",
       "      <td>2.211306</td>\n",
       "      <td>8.845224</td>\n",
       "    </tr>\n",
       "  </tbody>\n",
       "</table>\n",
       "</div>"
      ]
     },
     "metadata": {}
    }
   ],
   "metadata": {}
  },
  {
   "cell_type": "markdown",
   "source": [
    "## Visualizations\r\n",
    "\r\n",
    "Successful trades are showcased as a light green fill, similarly, failed trades as a red fill"
   ],
   "metadata": {}
  },
  {
   "cell_type": "code",
   "execution_count": 18,
   "source": [
    "fig, ax = plt.subplots(ncols=2, figsize=(20,6), gridspec_kw={'width_ratios': [2.5, 1]})\r\n",
    "\r\n",
    "# plot closed prices and highlighted trades\r\n",
    "ax[0].plot(stock.data[\"Close\"], color=\"b\")\r\n",
    "for i, val in enumerate(bdg):\r\n",
    "    ax[0].axvspan(val, sdg[i], alpha=0.3, color=\"g\")\r\n",
    "for i, val in enumerate(bdb):\r\n",
    "    ax[0].axvspan(val, sdb[i], alpha=0.3, color=\"r\")\r\n",
    "ax[0].set_title(ticker + \": Overview of trades\", fontsize=20)\r\n",
    "ax[0].set_ylabel(\"Close price [USD]\", fontsize=16)\r\n",
    "ax[0].set_xlabel(\"Index [-]\", fontsize=16)\r\n",
    "\r\n",
    "gtrades = summary[\"Good trade?\"].sum()\r\n",
    "trades = summary[\"Good trade?\"].size\r\n",
    "# plot piechart with percentage of succesful trades (profit / loss)\r\n",
    "ax[1].pie([gtrades, trades-gtrades], colors=[\"g\",\"r\"], shadow=True, explode=(0.1, 0), autopct=\"%1.1f%%\")\r\n",
    "ax[1].set_title(\"Success rate of trades\", fontsize=20)\r\n",
    "\r\n",
    "fig.tight_layout()"
   ],
   "outputs": [
    {
     "output_type": "error",
     "ename": "NameError",
     "evalue": "name 'ticker' is not defined",
     "traceback": [
      "\u001b[1;31m---------------------------------------------------------------------------\u001b[0m",
      "\u001b[1;31mNameError\u001b[0m                                 Traceback (most recent call last)",
      "\u001b[1;32m<ipython-input-18-3e4857aff771>\u001b[0m in \u001b[0;36m<module>\u001b[1;34m\u001b[0m\n\u001b[0;32m      7\u001b[0m \u001b[1;32mfor\u001b[0m \u001b[0mi\u001b[0m\u001b[1;33m,\u001b[0m \u001b[0mval\u001b[0m \u001b[1;32min\u001b[0m \u001b[0menumerate\u001b[0m\u001b[1;33m(\u001b[0m\u001b[0mbdb\u001b[0m\u001b[1;33m)\u001b[0m\u001b[1;33m:\u001b[0m\u001b[1;33m\u001b[0m\u001b[1;33m\u001b[0m\u001b[0m\n\u001b[0;32m      8\u001b[0m     \u001b[0max\u001b[0m\u001b[1;33m[\u001b[0m\u001b[1;36m0\u001b[0m\u001b[1;33m]\u001b[0m\u001b[1;33m.\u001b[0m\u001b[0maxvspan\u001b[0m\u001b[1;33m(\u001b[0m\u001b[0mval\u001b[0m\u001b[1;33m,\u001b[0m \u001b[0msdb\u001b[0m\u001b[1;33m[\u001b[0m\u001b[0mi\u001b[0m\u001b[1;33m]\u001b[0m\u001b[1;33m,\u001b[0m \u001b[0malpha\u001b[0m\u001b[1;33m=\u001b[0m\u001b[1;36m0.3\u001b[0m\u001b[1;33m,\u001b[0m \u001b[0mcolor\u001b[0m\u001b[1;33m=\u001b[0m\u001b[1;34m\"r\"\u001b[0m\u001b[1;33m)\u001b[0m\u001b[1;33m\u001b[0m\u001b[1;33m\u001b[0m\u001b[0m\n\u001b[1;32m----> 9\u001b[1;33m \u001b[0max\u001b[0m\u001b[1;33m[\u001b[0m\u001b[1;36m0\u001b[0m\u001b[1;33m]\u001b[0m\u001b[1;33m.\u001b[0m\u001b[0mset_title\u001b[0m\u001b[1;33m(\u001b[0m\u001b[0mticker\u001b[0m \u001b[1;33m+\u001b[0m \u001b[1;34m\": Overview of trades\"\u001b[0m\u001b[1;33m,\u001b[0m \u001b[0mfontsize\u001b[0m\u001b[1;33m=\u001b[0m\u001b[1;36m20\u001b[0m\u001b[1;33m)\u001b[0m\u001b[1;33m\u001b[0m\u001b[1;33m\u001b[0m\u001b[0m\n\u001b[0m\u001b[0;32m     10\u001b[0m \u001b[0max\u001b[0m\u001b[1;33m[\u001b[0m\u001b[1;36m0\u001b[0m\u001b[1;33m]\u001b[0m\u001b[1;33m.\u001b[0m\u001b[0mset_ylabel\u001b[0m\u001b[1;33m(\u001b[0m\u001b[1;34m\"Close price [USD]\"\u001b[0m\u001b[1;33m,\u001b[0m \u001b[0mfontsize\u001b[0m\u001b[1;33m=\u001b[0m\u001b[1;36m16\u001b[0m\u001b[1;33m)\u001b[0m\u001b[1;33m\u001b[0m\u001b[1;33m\u001b[0m\u001b[0m\n\u001b[0;32m     11\u001b[0m \u001b[0max\u001b[0m\u001b[1;33m[\u001b[0m\u001b[1;36m0\u001b[0m\u001b[1;33m]\u001b[0m\u001b[1;33m.\u001b[0m\u001b[0mset_xlabel\u001b[0m\u001b[1;33m(\u001b[0m\u001b[1;34m\"Index [-]\"\u001b[0m\u001b[1;33m,\u001b[0m \u001b[0mfontsize\u001b[0m\u001b[1;33m=\u001b[0m\u001b[1;36m16\u001b[0m\u001b[1;33m)\u001b[0m\u001b[1;33m\u001b[0m\u001b[1;33m\u001b[0m\u001b[0m\n",
      "\u001b[1;31mNameError\u001b[0m: name 'ticker' is not defined"
     ]
    },
    {
     "output_type": "display_data",
     "data": {
      "text/plain": [
       "<Figure size 1440x432 with 2 Axes>"
      ],
      "image/svg+xml": "<?xml version=\"1.0\" encoding=\"utf-8\" standalone=\"no\"?>\r\n<!DOCTYPE svg PUBLIC \"-//W3C//DTD SVG 1.1//EN\"\r\n  \"http://www.w3.org/Graphics/SVG/1.1/DTD/svg11.dtd\">\r\n<!-- Created with matplotlib (https://matplotlib.org/) -->\r\n<svg height=\"361.037344pt\" version=\"1.1\" viewBox=\"0 0 1164.439062 361.037344\" width=\"1164.439062pt\" xmlns=\"http://www.w3.org/2000/svg\" xmlns:xlink=\"http://www.w3.org/1999/xlink\">\r\n <metadata>\r\n  <rdf:RDF xmlns:cc=\"http://creativecommons.org/ns#\" xmlns:dc=\"http://purl.org/dc/elements/1.1/\" xmlns:rdf=\"http://www.w3.org/1999/02/22-rdf-syntax-ns#\">\r\n   <cc:Work>\r\n    <dc:type rdf:resource=\"http://purl.org/dc/dcmitype/StillImage\"/>\r\n    <dc:date>2021-10-12T21:20:44.469537</dc:date>\r\n    <dc:format>image/svg+xml</dc:format>\r\n    <dc:creator>\r\n     <cc:Agent>\r\n      <dc:title>Matplotlib v3.3.4, https://matplotlib.org/</dc:title>\r\n     </cc:Agent>\r\n    </dc:creator>\r\n   </cc:Work>\r\n  </rdf:RDF>\r\n </metadata>\r\n <defs>\r\n  <style type=\"text/css\">*{stroke-linecap:butt;stroke-linejoin:round;}</style>\r\n </defs>\r\n <g id=\"figure_1\">\r\n  <g id=\"patch_1\">\r\n   <path d=\"M 0 361.037344 \r\nL 1164.439062 361.037344 \r\nL 1164.439062 0 \r\nL 0 0 \r\nz\r\n\" style=\"fill:none;\"/>\r\n  </g>\r\n  <g id=\"axes_1\">\r\n   <g id=\"patch_2\">\r\n    <path d=\"M 33.2875 337.159219 \r\nL 757.962825 337.159219 \r\nL 757.962825 10.999219 \r\nL 33.2875 10.999219 \r\nz\r\n\" style=\"fill:#ffffff;\"/>\r\n   </g>\r\n   <g id=\"patch_3\">\r\n    <path clip-path=\"url(#p5b7ec486cd)\" d=\"M 247.330502 337.159219 \r\nL 247.330502 10.999219 \r\nL 249.955186 10.999219 \r\nL 249.955186 337.159219 \r\nz\r\n\" style=\"fill:#008000;opacity:0.3;stroke:#008000;stroke-linejoin:miter;\"/>\r\n   </g>\r\n   <g id=\"patch_4\">\r\n    <path clip-path=\"url(#p5b7ec486cd)\" d=\"M 310.322924 337.159219 \r\nL 310.322924 10.999219 \r\nL 312.947608 10.999219 \r\nL 312.947608 337.159219 \r\nz\r\n\" style=\"fill:#008000;opacity:0.3;stroke:#008000;stroke-linejoin:miter;\"/>\r\n   </g>\r\n   <g id=\"patch_5\">\r\n    <path clip-path=\"url(#p5b7ec486cd)\" d=\"M 333.945082 337.159219 \r\nL 333.945082 10.999219 \r\nL 336.569766 10.999219 \r\nL 336.569766 337.159219 \r\nz\r\n\" style=\"fill:#008000;opacity:0.3;stroke:#008000;stroke-linejoin:miter;\"/>\r\n   </g>\r\n   <g id=\"patch_6\">\r\n    <path clip-path=\"url(#p5b7ec486cd)\" d=\"M 373.315346 337.159219 \r\nL 373.315346 10.999219 \r\nL 375.94003 10.999219 \r\nL 375.94003 337.159219 \r\nz\r\n\" style=\"fill:#008000;opacity:0.3;stroke:#008000;stroke-linejoin:miter;\"/>\r\n   </g>\r\n   <g id=\"patch_7\">\r\n    <path clip-path=\"url(#p5b7ec486cd)\" d=\"M 459.929927 337.159219 \r\nL 459.929927 10.999219 \r\nL 462.554611 10.999219 \r\nL 462.554611 337.159219 \r\nz\r\n\" style=\"fill:#008000;opacity:0.3;stroke:#008000;stroke-linejoin:miter;\"/>\r\n   </g>\r\n   <g id=\"patch_8\">\r\n    <path clip-path=\"url(#p5b7ec486cd)\" d=\"M 717.148984 337.159219 \r\nL 717.148984 10.999219 \r\nL 719.773669 10.999219 \r\nL 719.773669 337.159219 \r\nz\r\n\" style=\"fill:#008000;opacity:0.3;stroke:#008000;stroke-linejoin:miter;\"/>\r\n   </g>\r\n   <g id=\"patch_9\">\r\n    <path clip-path=\"url(#p5b7ec486cd)\" d=\"M 270.95266 337.159219 \r\nL 270.95266 10.999219 \r\nL 273.577344 10.999219 \r\nL 273.577344 337.159219 \r\nz\r\n\" style=\"fill:#ff0000;opacity:0.3;stroke:#ff0000;stroke-linejoin:miter;\"/>\r\n   </g>\r\n   <g id=\"patch_10\">\r\n    <path clip-path=\"url(#p5b7ec486cd)\" d=\"M 446.806505 337.159219 \r\nL 446.806505 10.999219 \r\nL 449.43119 10.999219 \r\nL 449.43119 337.159219 \r\nz\r\n\" style=\"fill:#ff0000;opacity:0.3;stroke:#ff0000;stroke-linejoin:miter;\"/>\r\n   </g>\r\n   <g id=\"matplotlib.axis_1\">\r\n    <g id=\"xtick_1\">\r\n     <g id=\"line2d_1\">\r\n      <defs>\r\n       <path d=\"M 0 0 \r\nL 0 3.5 \r\n\" id=\"mf63588f200\" style=\"stroke:#000000;stroke-width:0.8;\"/>\r\n      </defs>\r\n      <g>\r\n       <use style=\"stroke:#000000;stroke-width:0.8;\" x=\"66.227287\" xlink:href=\"#mf63588f200\" y=\"337.159219\"/>\r\n      </g>\r\n     </g>\r\n     <g id=\"text_1\">\r\n      <!-- 0 -->\r\n      <g transform=\"translate(63.046037 351.757656)scale(0.1 -0.1)\">\r\n       <defs>\r\n        <path d=\"M 31.78125 66.40625 \r\nQ 24.171875 66.40625 20.328125 58.90625 \r\nQ 16.5 51.421875 16.5 36.375 \r\nQ 16.5 21.390625 20.328125 13.890625 \r\nQ 24.171875 6.390625 31.78125 6.390625 \r\nQ 39.453125 6.390625 43.28125 13.890625 \r\nQ 47.125 21.390625 47.125 36.375 \r\nQ 47.125 51.421875 43.28125 58.90625 \r\nQ 39.453125 66.40625 31.78125 66.40625 \r\nz\r\nM 31.78125 74.21875 \r\nQ 44.046875 74.21875 50.515625 64.515625 \r\nQ 56.984375 54.828125 56.984375 36.375 \r\nQ 56.984375 17.96875 50.515625 8.265625 \r\nQ 44.046875 -1.421875 31.78125 -1.421875 \r\nQ 19.53125 -1.421875 13.0625 8.265625 \r\nQ 6.59375 17.96875 6.59375 36.375 \r\nQ 6.59375 54.828125 13.0625 64.515625 \r\nQ 19.53125 74.21875 31.78125 74.21875 \r\nz\r\n\" id=\"DejaVuSans-48\"/>\r\n       </defs>\r\n       <use xlink:href=\"#DejaVuSans-48\"/>\r\n      </g>\r\n     </g>\r\n    </g>\r\n    <g id=\"xtick_2\">\r\n     <g id=\"line2d_2\">\r\n      <g>\r\n       <use style=\"stroke:#000000;stroke-width:0.8;\" x=\"197.461501\" xlink:href=\"#mf63588f200\" y=\"337.159219\"/>\r\n      </g>\r\n     </g>\r\n     <g id=\"text_2\">\r\n      <!-- 50 -->\r\n      <g transform=\"translate(191.099001 351.757656)scale(0.1 -0.1)\">\r\n       <defs>\r\n        <path d=\"M 10.796875 72.90625 \r\nL 49.515625 72.90625 \r\nL 49.515625 64.59375 \r\nL 19.828125 64.59375 \r\nL 19.828125 46.734375 \r\nQ 21.96875 47.46875 24.109375 47.828125 \r\nQ 26.265625 48.1875 28.421875 48.1875 \r\nQ 40.625 48.1875 47.75 41.5 \r\nQ 54.890625 34.8125 54.890625 23.390625 \r\nQ 54.890625 11.625 47.5625 5.09375 \r\nQ 40.234375 -1.421875 26.90625 -1.421875 \r\nQ 22.3125 -1.421875 17.546875 -0.640625 \r\nQ 12.796875 0.140625 7.71875 1.703125 \r\nL 7.71875 11.625 \r\nQ 12.109375 9.234375 16.796875 8.0625 \r\nQ 21.484375 6.890625 26.703125 6.890625 \r\nQ 35.15625 6.890625 40.078125 11.328125 \r\nQ 45.015625 15.765625 45.015625 23.390625 \r\nQ 45.015625 31 40.078125 35.4375 \r\nQ 35.15625 39.890625 26.703125 39.890625 \r\nQ 22.75 39.890625 18.8125 39.015625 \r\nQ 14.890625 38.140625 10.796875 36.28125 \r\nz\r\n\" id=\"DejaVuSans-53\"/>\r\n       </defs>\r\n       <use xlink:href=\"#DejaVuSans-53\"/>\r\n       <use x=\"63.623047\" xlink:href=\"#DejaVuSans-48\"/>\r\n      </g>\r\n     </g>\r\n    </g>\r\n    <g id=\"xtick_3\">\r\n     <g id=\"line2d_3\">\r\n      <g>\r\n       <use style=\"stroke:#000000;stroke-width:0.8;\" x=\"328.695714\" xlink:href=\"#mf63588f200\" y=\"337.159219\"/>\r\n      </g>\r\n     </g>\r\n     <g id=\"text_3\">\r\n      <!-- 100 -->\r\n      <g transform=\"translate(319.151964 351.757656)scale(0.1 -0.1)\">\r\n       <defs>\r\n        <path d=\"M 12.40625 8.296875 \r\nL 28.515625 8.296875 \r\nL 28.515625 63.921875 \r\nL 10.984375 60.40625 \r\nL 10.984375 69.390625 \r\nL 28.421875 72.90625 \r\nL 38.28125 72.90625 \r\nL 38.28125 8.296875 \r\nL 54.390625 8.296875 \r\nL 54.390625 0 \r\nL 12.40625 0 \r\nz\r\n\" id=\"DejaVuSans-49\"/>\r\n       </defs>\r\n       <use xlink:href=\"#DejaVuSans-49\"/>\r\n       <use x=\"63.623047\" xlink:href=\"#DejaVuSans-48\"/>\r\n       <use x=\"127.246094\" xlink:href=\"#DejaVuSans-48\"/>\r\n      </g>\r\n     </g>\r\n    </g>\r\n    <g id=\"xtick_4\">\r\n     <g id=\"line2d_4\">\r\n      <g>\r\n       <use style=\"stroke:#000000;stroke-width:0.8;\" x=\"459.929927\" xlink:href=\"#mf63588f200\" y=\"337.159219\"/>\r\n      </g>\r\n     </g>\r\n     <g id=\"text_4\">\r\n      <!-- 150 -->\r\n      <g transform=\"translate(450.386177 351.757656)scale(0.1 -0.1)\">\r\n       <use xlink:href=\"#DejaVuSans-49\"/>\r\n       <use x=\"63.623047\" xlink:href=\"#DejaVuSans-53\"/>\r\n       <use x=\"127.246094\" xlink:href=\"#DejaVuSans-48\"/>\r\n      </g>\r\n     </g>\r\n    </g>\r\n    <g id=\"xtick_5\">\r\n     <g id=\"line2d_5\">\r\n      <g>\r\n       <use style=\"stroke:#000000;stroke-width:0.8;\" x=\"591.16414\" xlink:href=\"#mf63588f200\" y=\"337.159219\"/>\r\n      </g>\r\n     </g>\r\n     <g id=\"text_5\">\r\n      <!-- 200 -->\r\n      <g transform=\"translate(581.62039 351.757656)scale(0.1 -0.1)\">\r\n       <defs>\r\n        <path d=\"M 19.1875 8.296875 \r\nL 53.609375 8.296875 \r\nL 53.609375 0 \r\nL 7.328125 0 \r\nL 7.328125 8.296875 \r\nQ 12.9375 14.109375 22.625 23.890625 \r\nQ 32.328125 33.6875 34.8125 36.53125 \r\nQ 39.546875 41.84375 41.421875 45.53125 \r\nQ 43.3125 49.21875 43.3125 52.78125 \r\nQ 43.3125 58.59375 39.234375 62.25 \r\nQ 35.15625 65.921875 28.609375 65.921875 \r\nQ 23.96875 65.921875 18.8125 64.3125 \r\nQ 13.671875 62.703125 7.8125 59.421875 \r\nL 7.8125 69.390625 \r\nQ 13.765625 71.78125 18.9375 73 \r\nQ 24.125 74.21875 28.421875 74.21875 \r\nQ 39.75 74.21875 46.484375 68.546875 \r\nQ 53.21875 62.890625 53.21875 53.421875 \r\nQ 53.21875 48.921875 51.53125 44.890625 \r\nQ 49.859375 40.875 45.40625 35.40625 \r\nQ 44.1875 33.984375 37.640625 27.21875 \r\nQ 31.109375 20.453125 19.1875 8.296875 \r\nz\r\n\" id=\"DejaVuSans-50\"/>\r\n       </defs>\r\n       <use xlink:href=\"#DejaVuSans-50\"/>\r\n       <use x=\"63.623047\" xlink:href=\"#DejaVuSans-48\"/>\r\n       <use x=\"127.246094\" xlink:href=\"#DejaVuSans-48\"/>\r\n      </g>\r\n     </g>\r\n    </g>\r\n    <g id=\"xtick_6\">\r\n     <g id=\"line2d_6\">\r\n      <g>\r\n       <use style=\"stroke:#000000;stroke-width:0.8;\" x=\"722.398353\" xlink:href=\"#mf63588f200\" y=\"337.159219\"/>\r\n      </g>\r\n     </g>\r\n     <g id=\"text_6\">\r\n      <!-- 250 -->\r\n      <g transform=\"translate(712.854603 351.757656)scale(0.1 -0.1)\">\r\n       <use xlink:href=\"#DejaVuSans-50\"/>\r\n       <use x=\"63.623047\" xlink:href=\"#DejaVuSans-53\"/>\r\n       <use x=\"127.246094\" xlink:href=\"#DejaVuSans-48\"/>\r\n      </g>\r\n     </g>\r\n    </g>\r\n   </g>\r\n   <g id=\"matplotlib.axis_2\">\r\n    <g id=\"ytick_1\">\r\n     <g id=\"line2d_7\">\r\n      <defs>\r\n       <path d=\"M 0 0 \r\nL -3.5 0 \r\n\" id=\"m9b18cbfbe3\" style=\"stroke:#000000;stroke-width:0.8;\"/>\r\n      </defs>\r\n      <g>\r\n       <use style=\"stroke:#000000;stroke-width:0.8;\" x=\"33.2875\" xlink:href=\"#m9b18cbfbe3\" y=\"277.480899\"/>\r\n      </g>\r\n     </g>\r\n     <g id=\"text_7\">\r\n      <!-- 80 -->\r\n      <g transform=\"translate(13.5625 281.280118)scale(0.1 -0.1)\">\r\n       <defs>\r\n        <path d=\"M 31.78125 34.625 \r\nQ 24.75 34.625 20.71875 30.859375 \r\nQ 16.703125 27.09375 16.703125 20.515625 \r\nQ 16.703125 13.921875 20.71875 10.15625 \r\nQ 24.75 6.390625 31.78125 6.390625 \r\nQ 38.8125 6.390625 42.859375 10.171875 \r\nQ 46.921875 13.96875 46.921875 20.515625 \r\nQ 46.921875 27.09375 42.890625 30.859375 \r\nQ 38.875 34.625 31.78125 34.625 \r\nz\r\nM 21.921875 38.8125 \r\nQ 15.578125 40.375 12.03125 44.71875 \r\nQ 8.5 49.078125 8.5 55.328125 \r\nQ 8.5 64.0625 14.71875 69.140625 \r\nQ 20.953125 74.21875 31.78125 74.21875 \r\nQ 42.671875 74.21875 48.875 69.140625 \r\nQ 55.078125 64.0625 55.078125 55.328125 \r\nQ 55.078125 49.078125 51.53125 44.71875 \r\nQ 48 40.375 41.703125 38.8125 \r\nQ 48.828125 37.15625 52.796875 32.3125 \r\nQ 56.78125 27.484375 56.78125 20.515625 \r\nQ 56.78125 9.90625 50.3125 4.234375 \r\nQ 43.84375 -1.421875 31.78125 -1.421875 \r\nQ 19.734375 -1.421875 13.25 4.234375 \r\nQ 6.78125 9.90625 6.78125 20.515625 \r\nQ 6.78125 27.484375 10.78125 32.3125 \r\nQ 14.796875 37.15625 21.921875 38.8125 \r\nz\r\nM 18.3125 54.390625 \r\nQ 18.3125 48.734375 21.84375 45.5625 \r\nQ 25.390625 42.390625 31.78125 42.390625 \r\nQ 38.140625 42.390625 41.71875 45.5625 \r\nQ 45.3125 48.734375 45.3125 54.390625 \r\nQ 45.3125 60.0625 41.71875 63.234375 \r\nQ 38.140625 66.40625 31.78125 66.40625 \r\nQ 25.390625 66.40625 21.84375 63.234375 \r\nQ 18.3125 60.0625 18.3125 54.390625 \r\nz\r\n\" id=\"DejaVuSans-56\"/>\r\n       </defs>\r\n       <use xlink:href=\"#DejaVuSans-56\"/>\r\n       <use x=\"63.623047\" xlink:href=\"#DejaVuSans-48\"/>\r\n      </g>\r\n     </g>\r\n    </g>\r\n    <g id=\"ytick_2\">\r\n     <g id=\"line2d_8\">\r\n      <g>\r\n       <use style=\"stroke:#000000;stroke-width:0.8;\" x=\"33.2875\" xlink:href=\"#m9b18cbfbe3\" y=\"212.570853\"/>\r\n      </g>\r\n     </g>\r\n     <g id=\"text_8\">\r\n      <!-- 90 -->\r\n      <g transform=\"translate(13.5625 216.370072)scale(0.1 -0.1)\">\r\n       <defs>\r\n        <path d=\"M 10.984375 1.515625 \r\nL 10.984375 10.5 \r\nQ 14.703125 8.734375 18.5 7.8125 \r\nQ 22.3125 6.890625 25.984375 6.890625 \r\nQ 35.75 6.890625 40.890625 13.453125 \r\nQ 46.046875 20.015625 46.78125 33.40625 \r\nQ 43.953125 29.203125 39.59375 26.953125 \r\nQ 35.25 24.703125 29.984375 24.703125 \r\nQ 19.046875 24.703125 12.671875 31.3125 \r\nQ 6.296875 37.9375 6.296875 49.421875 \r\nQ 6.296875 60.640625 12.9375 67.421875 \r\nQ 19.578125 74.21875 30.609375 74.21875 \r\nQ 43.265625 74.21875 49.921875 64.515625 \r\nQ 56.59375 54.828125 56.59375 36.375 \r\nQ 56.59375 19.140625 48.40625 8.859375 \r\nQ 40.234375 -1.421875 26.421875 -1.421875 \r\nQ 22.703125 -1.421875 18.890625 -0.6875 \r\nQ 15.09375 0.046875 10.984375 1.515625 \r\nz\r\nM 30.609375 32.421875 \r\nQ 37.25 32.421875 41.125 36.953125 \r\nQ 45.015625 41.5 45.015625 49.421875 \r\nQ 45.015625 57.28125 41.125 61.84375 \r\nQ 37.25 66.40625 30.609375 66.40625 \r\nQ 23.96875 66.40625 20.09375 61.84375 \r\nQ 16.21875 57.28125 16.21875 49.421875 \r\nQ 16.21875 41.5 20.09375 36.953125 \r\nQ 23.96875 32.421875 30.609375 32.421875 \r\nz\r\n\" id=\"DejaVuSans-57\"/>\r\n       </defs>\r\n       <use xlink:href=\"#DejaVuSans-57\"/>\r\n       <use x=\"63.623047\" xlink:href=\"#DejaVuSans-48\"/>\r\n      </g>\r\n     </g>\r\n    </g>\r\n    <g id=\"ytick_3\">\r\n     <g id=\"line2d_9\">\r\n      <g>\r\n       <use style=\"stroke:#000000;stroke-width:0.8;\" x=\"33.2875\" xlink:href=\"#m9b18cbfbe3\" y=\"147.660807\"/>\r\n      </g>\r\n     </g>\r\n     <g id=\"text_9\">\r\n      <!-- 100 -->\r\n      <g transform=\"translate(7.2 151.460026)scale(0.1 -0.1)\">\r\n       <use xlink:href=\"#DejaVuSans-49\"/>\r\n       <use x=\"63.623047\" xlink:href=\"#DejaVuSans-48\"/>\r\n       <use x=\"127.246094\" xlink:href=\"#DejaVuSans-48\"/>\r\n      </g>\r\n     </g>\r\n    </g>\r\n    <g id=\"ytick_4\">\r\n     <g id=\"line2d_10\">\r\n      <g>\r\n       <use style=\"stroke:#000000;stroke-width:0.8;\" x=\"33.2875\" xlink:href=\"#m9b18cbfbe3\" y=\"82.750762\"/>\r\n      </g>\r\n     </g>\r\n     <g id=\"text_10\">\r\n      <!-- 110 -->\r\n      <g transform=\"translate(7.2 86.54998)scale(0.1 -0.1)\">\r\n       <use xlink:href=\"#DejaVuSans-49\"/>\r\n       <use x=\"63.623047\" xlink:href=\"#DejaVuSans-49\"/>\r\n       <use x=\"127.246094\" xlink:href=\"#DejaVuSans-48\"/>\r\n      </g>\r\n     </g>\r\n    </g>\r\n    <g id=\"ytick_5\">\r\n     <g id=\"line2d_11\">\r\n      <g>\r\n       <use style=\"stroke:#000000;stroke-width:0.8;\" x=\"33.2875\" xlink:href=\"#m9b18cbfbe3\" y=\"17.840716\"/>\r\n      </g>\r\n     </g>\r\n     <g id=\"text_11\">\r\n      <!-- 120 -->\r\n      <g transform=\"translate(7.2 21.639935)scale(0.1 -0.1)\">\r\n       <use xlink:href=\"#DejaVuSans-49\"/>\r\n       <use x=\"63.623047\" xlink:href=\"#DejaVuSans-50\"/>\r\n       <use x=\"127.246094\" xlink:href=\"#DejaVuSans-48\"/>\r\n      </g>\r\n     </g>\r\n    </g>\r\n   </g>\r\n   <g id=\"line2d_12\">\r\n    <path clip-path=\"url(#p5b7ec486cd)\" d=\"M 66.227287 249.634483 \r\nL 68.851972 243.208403 \r\nL 74.10134 257.164072 \r\nL 76.726025 256.904426 \r\nL 79.350709 264.49889 \r\nL 81.975393 267.354948 \r\nL 84.600077 282.673722 \r\nL 87.224762 281.245693 \r\nL 89.849446 264.758536 \r\nL 92.47413 263.005937 \r\nL 95.098814 284.750842 \r\nL 97.723499 300.848505 \r\nL 100.348183 290.33311 \r\nL 102.972867 308.053524 \r\nL 105.597551 311.883243 \r\nL 108.222236 299.680123 \r\nL 110.84692 268.718053 \r\nL 113.471604 258.007885 \r\nL 116.096288 239.31381 \r\nL 118.720973 257.228947 \r\nL 121.345657 290.527832 \r\nL 123.970341 269.172421 \r\nL 126.595026 265.537474 \r\nL 129.21971 268.19876 \r\nL 131.844394 253.26943 \r\nL 134.469078 255.671119 \r\nL 137.093763 260.993741 \r\nL 139.718447 241.520728 \r\nL 142.343131 247.362642 \r\nL 144.967815 243.01368 \r\nL 147.5925 244.571508 \r\nL 150.217184 233.926264 \r\nL 152.841868 230.81056 \r\nL 155.466552 195.304757 \r\nL 158.091237 195.499529 \r\nL 160.715921 188.29451 \r\nL 163.340605 197.576648 \r\nL 165.965289 186.347189 \r\nL 168.589974 186.152466 \r\nL 171.214658 193.617132 \r\nL 173.839342 213.674312 \r\nL 176.464026 201.795762 \r\nL 179.088711 201.860686 \r\nL 181.713395 181.543859 \r\nL 184.338079 166.354883 \r\nL 186.962764 168.107482 \r\nL 189.587448 168.172406 \r\nL 192.212132 174.144118 \r\nL 194.836816 191.604887 \r\nL 197.461501 192.059255 \r\nL 200.086185 202.509776 \r\nL 202.710869 200.822151 \r\nL 205.335553 202.185256 \r\nL 207.960238 208.546412 \r\nL 210.584922 197.706447 \r\nL 213.209606 201.471241 \r\nL 215.83429 197.641523 \r\nL 218.458975 194.590792 \r\nL 221.083659 210.42881 \r\nL 223.708343 179.077246 \r\nL 226.333027 182.84204 \r\nL 228.957712 165.51107 \r\nL 231.582396 177.779065 \r\nL 234.20708 201.016873 \r\nL 236.831765 207.442954 \r\nL 239.456449 224.189757 \r\nL 242.081133 216.140925 \r\nL 244.705817 220.684609 \r\nL 247.330502 202.639624 \r\nL 249.955186 194.460944 \r\nL 252.57987 185.763022 \r\nL 255.204554 181.998227 \r\nL 257.829239 220.100442 \r\nL 260.453923 228.668566 \r\nL 263.078607 240.871637 \r\nL 265.703291 227.75978 \r\nL 268.327976 219.970594 \r\nL 270.95266 226.266877 \r\nL 273.577344 226.591447 \r\nL 276.202028 226.201953 \r\nL 278.826713 203.029068 \r\nL 281.451397 206.664015 \r\nL 284.076081 197.317002 \r\nL 286.700765 195.304757 \r\nL 289.32545 188.099788 \r\nL 291.950134 203.093992 \r\nL 294.574818 212.960298 \r\nL 297.199503 221.398623 \r\nL 299.824187 215.297063 \r\nL 302.448871 242.624186 \r\nL 305.073555 246.713551 \r\nL 307.69824 232.433311 \r\nL 310.322924 261.77268 \r\nL 312.947608 248.206454 \r\nL 315.572292 236.003384 \r\nL 318.196977 250.673068 \r\nL 320.821661 271.898631 \r\nL 323.446345 292.085659 \r\nL 326.071029 287.087607 \r\nL 328.695714 316.686572 \r\nL 331.320398 287.022683 \r\nL 333.945082 293.578612 \r\nL 336.569766 269.496941 \r\nL 339.194451 270.665324 \r\nL 341.819135 261.253387 \r\nL 344.443819 259.630636 \r\nL 347.068503 260.409575 \r\nL 349.693188 289.68397 \r\nL 352.317872 283.582459 \r\nL 354.942556 275.533578 \r\nL 360.191925 300.329213 \r\nL 362.816609 302.016888 \r\nL 365.441293 294.292577 \r\nL 368.065978 296.045176 \r\nL 370.690662 303.444917 \r\nL 375.94003 270.405728 \r\nL 378.564715 268.19876 \r\nL 381.189399 268.133836 \r\nL 383.814083 263.200709 \r\nL 386.438767 255.736043 \r\nL 389.063452 259.565712 \r\nL 391.688136 286.698113 \r\nL 394.31282 276.247592 \r\nL 396.937504 286.892836 \r\nL 399.562189 257.942961 \r\nL 402.186873 263.525229 \r\nL 404.811557 270.27588 \r\nL 407.436242 282.219354 \r\nL 410.060926 267.030378 \r\nL 412.68561 283.582459 \r\nL 415.310294 259.565712 \r\nL 417.934979 242.36454 \r\nL 420.559663 243.662771 \r\nL 423.184347 251.387082 \r\nL 425.809031 252.101047 \r\nL 428.433716 266.965454 \r\nL 431.0584 286.892836 \r\nL 433.683084 286.503391 \r\nL 436.307768 291.566367 \r\nL 438.932453 291.176922 \r\nL 441.557137 285.20521 \r\nL 444.181821 303.509841 \r\nL 446.806505 298.057371 \r\nL 449.43119 312.272687 \r\nL 452.055874 322.333764 \r\nL 454.680558 312.597257 \r\nL 457.305242 312.207763 \r\nL 459.929927 313.570868 \r\nL 465.179295 290.073464 \r\nL 467.80398 295.850454 \r\nL 470.428664 294.097855 \r\nL 473.053348 291.371645 \r\nL 475.678032 288.25599 \r\nL 478.302717 287.736698 \r\nL 480.927401 276.961607 \r\nL 483.552085 272.223201 \r\nL 486.176769 264.693612 \r\nL 488.801454 275.663425 \r\nL 491.426138 267.2251 \r\nL 494.050822 268.718053 \r\nL 496.675506 271.703909 \r\nL 499.300191 277.740545 \r\nL 501.924875 267.354948 \r\nL 504.549559 268.977699 \r\nL 507.174243 267.419822 \r\nL 509.798928 274.430119 \r\nL 512.423612 276.766884 \r\nL 515.048296 247.881934 \r\nL 517.672981 247.297718 \r\nL 520.297665 260.669221 \r\nL 522.922349 254.243091 \r\nL 525.547033 252.685263 \r\nL 528.171718 237.885781 \r\nL 530.796402 241.001435 \r\nL 533.421086 231.524575 \r\nL 536.04577 215.686557 \r\nL 538.670455 187.061203 \r\nL 541.295139 191.085644 \r\nL 543.919823 182.063151 \r\nL 546.544507 183.556055 \r\nL 549.169192 209.065705 \r\nL 551.793876 214.258528 \r\nL 554.41856 206.728939 \r\nL 557.043244 207.313155 \r\nL 559.667929 210.883178 \r\nL 562.292613 218.737288 \r\nL 564.917297 232.498235 \r\nL 567.541981 239.248886 \r\nL 570.166666 234.770077 \r\nL 572.79135 231.329852 \r\nL 575.416034 216.400522 \r\nL 578.040719 204.716744 \r\nL 580.665403 198.615183 \r\nL 583.290087 200.757227 \r\nL 585.914771 205.885126 \r\nL 588.539456 161.097185 \r\nL 591.16414 128.512364 \r\nL 593.788824 107.481473 \r\nL 596.413508 91.643456 \r\nL 599.038193 66.133806 \r\nL 601.662877 25.824673 \r\nL 604.287561 67.496911 \r\nL 606.912245 82.036747 \r\nL 609.53693 98.458981 \r\nL 612.161614 105.599076 \r\nL 614.786298 97.80989 \r\nL 617.410982 105.469278 \r\nL 620.035667 79.180689 \r\nL 622.660351 99.108071 \r\nL 625.285035 98.588829 \r\nL 627.90972 125.331736 \r\nL 630.534404 123.64411 \r\nL 633.159088 117.477626 \r\nL 635.783772 90.734719 \r\nL 638.408457 98.004612 \r\nL 641.033141 93.78545 \r\nL 643.657825 100.471226 \r\nL 646.282509 73.663345 \r\nL 648.907194 74.182638 \r\nL 651.531878 78.07723 \r\nL 654.156562 82.815686 \r\nL 656.781246 87.943585 \r\nL 659.405931 83.270054 \r\nL 662.030615 88.268106 \r\nL 664.655299 107.611321 \r\nL 667.279983 107.741119 \r\nL 669.904668 113.907603 \r\nL 672.529352 116.503966 \r\nL 675.154036 110.467329 \r\nL 677.77872 111.311192 \r\nL 680.403405 107.286751 \r\nL 685.652773 137.59973 \r\nL 688.277458 129.356176 \r\nL 690.902142 119.230225 \r\nL 693.526826 107.741119 \r\nL 696.15151 110.012961 \r\nL 698.776195 94.694186 \r\nL 701.400879 137.794502 \r\nL 704.025563 145.388966 \r\nL 706.650247 128.836884 \r\nL 709.274932 131.757866 \r\nL 711.899616 145.45389 \r\nL 714.5243 135.912105 \r\nL 717.148984 124.033555 \r\nL 719.773669 105.793848 \r\nL 722.398353 114.81634 \r\nL 725.023037 117.282904 \r\nL 725.023037 117.282904 \r\n\" style=\"fill:none;stroke:#0000ff;stroke-linecap:square;stroke-width:1.5;\"/>\r\n   </g>\r\n   <g id=\"patch_11\">\r\n    <path d=\"M 33.2875 337.159219 \r\nL 33.2875 10.999219 \r\n\" style=\"fill:none;stroke:#000000;stroke-linecap:square;stroke-linejoin:miter;stroke-width:0.8;\"/>\r\n   </g>\r\n   <g id=\"patch_12\">\r\n    <path d=\"M 757.962825 337.159219 \r\nL 757.962825 10.999219 \r\n\" style=\"fill:none;stroke:#000000;stroke-linecap:square;stroke-linejoin:miter;stroke-width:0.8;\"/>\r\n   </g>\r\n   <g id=\"patch_13\">\r\n    <path d=\"M 33.2875 337.159219 \r\nL 757.962825 337.159219 \r\n\" style=\"fill:none;stroke:#000000;stroke-linecap:square;stroke-linejoin:miter;stroke-width:0.8;\"/>\r\n   </g>\r\n   <g id=\"patch_14\">\r\n    <path d=\"M 33.2875 10.999219 \r\nL 757.962825 10.999219 \r\n\" style=\"fill:none;stroke:#000000;stroke-linecap:square;stroke-linejoin:miter;stroke-width:0.8;\"/>\r\n   </g>\r\n  </g>\r\n  <g id=\"axes_2\">\r\n   <g id=\"patch_15\">\r\n    <path d=\"M 859.41737 337.159219 \r\nL 1149.2875 337.159219 \r\nL 1149.2875 10.999219 \r\nL 859.41737 10.999219 \r\nz\r\n\" style=\"fill:#ffffff;\"/>\r\n   </g>\r\n   <g id=\"matplotlib.axis_3\">\r\n    <g id=\"xtick_7\">\r\n     <g id=\"line2d_13\">\r\n      <g>\r\n       <use style=\"stroke:#000000;stroke-width:0.8;\" x=\"859.41737\" xlink:href=\"#mf63588f200\" y=\"337.159219\"/>\r\n      </g>\r\n     </g>\r\n     <g id=\"text_12\">\r\n      <!-- 0.0 -->\r\n      <g transform=\"translate(851.465808 351.757656)scale(0.1 -0.1)\">\r\n       <defs>\r\n        <path d=\"M 10.6875 12.40625 \r\nL 21 12.40625 \r\nL 21 0 \r\nL 10.6875 0 \r\nz\r\n\" id=\"DejaVuSans-46\"/>\r\n       </defs>\r\n       <use xlink:href=\"#DejaVuSans-48\"/>\r\n       <use x=\"63.623047\" xlink:href=\"#DejaVuSans-46\"/>\r\n       <use x=\"95.410156\" xlink:href=\"#DejaVuSans-48\"/>\r\n      </g>\r\n     </g>\r\n    </g>\r\n    <g id=\"xtick_8\">\r\n     <g id=\"line2d_14\">\r\n      <g>\r\n       <use style=\"stroke:#000000;stroke-width:0.8;\" x=\"917.391396\" xlink:href=\"#mf63588f200\" y=\"337.159219\"/>\r\n      </g>\r\n     </g>\r\n     <g id=\"text_13\">\r\n      <!-- 0.2 -->\r\n      <g transform=\"translate(909.439834 351.757656)scale(0.1 -0.1)\">\r\n       <use xlink:href=\"#DejaVuSans-48\"/>\r\n       <use x=\"63.623047\" xlink:href=\"#DejaVuSans-46\"/>\r\n       <use x=\"95.410156\" xlink:href=\"#DejaVuSans-50\"/>\r\n      </g>\r\n     </g>\r\n    </g>\r\n    <g id=\"xtick_9\">\r\n     <g id=\"line2d_15\">\r\n      <g>\r\n       <use style=\"stroke:#000000;stroke-width:0.8;\" x=\"975.365422\" xlink:href=\"#mf63588f200\" y=\"337.159219\"/>\r\n      </g>\r\n     </g>\r\n     <g id=\"text_14\">\r\n      <!-- 0.4 -->\r\n      <g transform=\"translate(967.41386 351.757656)scale(0.1 -0.1)\">\r\n       <defs>\r\n        <path d=\"M 37.796875 64.3125 \r\nL 12.890625 25.390625 \r\nL 37.796875 25.390625 \r\nz\r\nM 35.203125 72.90625 \r\nL 47.609375 72.90625 \r\nL 47.609375 25.390625 \r\nL 58.015625 25.390625 \r\nL 58.015625 17.1875 \r\nL 47.609375 17.1875 \r\nL 47.609375 0 \r\nL 37.796875 0 \r\nL 37.796875 17.1875 \r\nL 4.890625 17.1875 \r\nL 4.890625 26.703125 \r\nz\r\n\" id=\"DejaVuSans-52\"/>\r\n       </defs>\r\n       <use xlink:href=\"#DejaVuSans-48\"/>\r\n       <use x=\"63.623047\" xlink:href=\"#DejaVuSans-46\"/>\r\n       <use x=\"95.410156\" xlink:href=\"#DejaVuSans-52\"/>\r\n      </g>\r\n     </g>\r\n    </g>\r\n    <g id=\"xtick_10\">\r\n     <g id=\"line2d_16\">\r\n      <g>\r\n       <use style=\"stroke:#000000;stroke-width:0.8;\" x=\"1033.339448\" xlink:href=\"#mf63588f200\" y=\"337.159219\"/>\r\n      </g>\r\n     </g>\r\n     <g id=\"text_15\">\r\n      <!-- 0.6 -->\r\n      <g transform=\"translate(1025.387886 351.757656)scale(0.1 -0.1)\">\r\n       <defs>\r\n        <path d=\"M 33.015625 40.375 \r\nQ 26.375 40.375 22.484375 35.828125 \r\nQ 18.609375 31.296875 18.609375 23.390625 \r\nQ 18.609375 15.53125 22.484375 10.953125 \r\nQ 26.375 6.390625 33.015625 6.390625 \r\nQ 39.65625 6.390625 43.53125 10.953125 \r\nQ 47.40625 15.53125 47.40625 23.390625 \r\nQ 47.40625 31.296875 43.53125 35.828125 \r\nQ 39.65625 40.375 33.015625 40.375 \r\nz\r\nM 52.59375 71.296875 \r\nL 52.59375 62.3125 \r\nQ 48.875 64.0625 45.09375 64.984375 \r\nQ 41.3125 65.921875 37.59375 65.921875 \r\nQ 27.828125 65.921875 22.671875 59.328125 \r\nQ 17.53125 52.734375 16.796875 39.40625 \r\nQ 19.671875 43.65625 24.015625 45.921875 \r\nQ 28.375 48.1875 33.59375 48.1875 \r\nQ 44.578125 48.1875 50.953125 41.515625 \r\nQ 57.328125 34.859375 57.328125 23.390625 \r\nQ 57.328125 12.15625 50.6875 5.359375 \r\nQ 44.046875 -1.421875 33.015625 -1.421875 \r\nQ 20.359375 -1.421875 13.671875 8.265625 \r\nQ 6.984375 17.96875 6.984375 36.375 \r\nQ 6.984375 53.65625 15.1875 63.9375 \r\nQ 23.390625 74.21875 37.203125 74.21875 \r\nQ 40.921875 74.21875 44.703125 73.484375 \r\nQ 48.484375 72.75 52.59375 71.296875 \r\nz\r\n\" id=\"DejaVuSans-54\"/>\r\n       </defs>\r\n       <use xlink:href=\"#DejaVuSans-48\"/>\r\n       <use x=\"63.623047\" xlink:href=\"#DejaVuSans-46\"/>\r\n       <use x=\"95.410156\" xlink:href=\"#DejaVuSans-54\"/>\r\n      </g>\r\n     </g>\r\n    </g>\r\n    <g id=\"xtick_11\">\r\n     <g id=\"line2d_17\">\r\n      <g>\r\n       <use style=\"stroke:#000000;stroke-width:0.8;\" x=\"1091.313474\" xlink:href=\"#mf63588f200\" y=\"337.159219\"/>\r\n      </g>\r\n     </g>\r\n     <g id=\"text_16\">\r\n      <!-- 0.8 -->\r\n      <g transform=\"translate(1083.361912 351.757656)scale(0.1 -0.1)\">\r\n       <use xlink:href=\"#DejaVuSans-48\"/>\r\n       <use x=\"63.623047\" xlink:href=\"#DejaVuSans-46\"/>\r\n       <use x=\"95.410156\" xlink:href=\"#DejaVuSans-56\"/>\r\n      </g>\r\n     </g>\r\n    </g>\r\n    <g id=\"xtick_12\">\r\n     <g id=\"line2d_18\">\r\n      <g>\r\n       <use style=\"stroke:#000000;stroke-width:0.8;\" x=\"1149.2875\" xlink:href=\"#mf63588f200\" y=\"337.159219\"/>\r\n      </g>\r\n     </g>\r\n     <g id=\"text_17\">\r\n      <!-- 1.0 -->\r\n      <g transform=\"translate(1141.335938 351.757656)scale(0.1 -0.1)\">\r\n       <use xlink:href=\"#DejaVuSans-49\"/>\r\n       <use x=\"63.623047\" xlink:href=\"#DejaVuSans-46\"/>\r\n       <use x=\"95.410156\" xlink:href=\"#DejaVuSans-48\"/>\r\n      </g>\r\n     </g>\r\n    </g>\r\n   </g>\r\n   <g id=\"matplotlib.axis_4\">\r\n    <g id=\"ytick_6\">\r\n     <g id=\"line2d_19\">\r\n      <g>\r\n       <use style=\"stroke:#000000;stroke-width:0.8;\" x=\"859.41737\" xlink:href=\"#m9b18cbfbe3\" y=\"337.159219\"/>\r\n      </g>\r\n     </g>\r\n     <g id=\"text_18\">\r\n      <!-- 0.0 -->\r\n      <g transform=\"translate(836.514245 340.958438)scale(0.1 -0.1)\">\r\n       <use xlink:href=\"#DejaVuSans-48\"/>\r\n       <use x=\"63.623047\" xlink:href=\"#DejaVuSans-46\"/>\r\n       <use x=\"95.410156\" xlink:href=\"#DejaVuSans-48\"/>\r\n      </g>\r\n     </g>\r\n    </g>\r\n    <g id=\"ytick_7\">\r\n     <g id=\"line2d_20\">\r\n      <g>\r\n       <use style=\"stroke:#000000;stroke-width:0.8;\" x=\"859.41737\" xlink:href=\"#m9b18cbfbe3\" y=\"271.927219\"/>\r\n      </g>\r\n     </g>\r\n     <g id=\"text_19\">\r\n      <!-- 0.2 -->\r\n      <g transform=\"translate(836.514245 275.726438)scale(0.1 -0.1)\">\r\n       <use xlink:href=\"#DejaVuSans-48\"/>\r\n       <use x=\"63.623047\" xlink:href=\"#DejaVuSans-46\"/>\r\n       <use x=\"95.410156\" xlink:href=\"#DejaVuSans-50\"/>\r\n      </g>\r\n     </g>\r\n    </g>\r\n    <g id=\"ytick_8\">\r\n     <g id=\"line2d_21\">\r\n      <g>\r\n       <use style=\"stroke:#000000;stroke-width:0.8;\" x=\"859.41737\" xlink:href=\"#m9b18cbfbe3\" y=\"206.695219\"/>\r\n      </g>\r\n     </g>\r\n     <g id=\"text_20\">\r\n      <!-- 0.4 -->\r\n      <g transform=\"translate(836.514245 210.494438)scale(0.1 -0.1)\">\r\n       <use xlink:href=\"#DejaVuSans-48\"/>\r\n       <use x=\"63.623047\" xlink:href=\"#DejaVuSans-46\"/>\r\n       <use x=\"95.410156\" xlink:href=\"#DejaVuSans-52\"/>\r\n      </g>\r\n     </g>\r\n    </g>\r\n    <g id=\"ytick_9\">\r\n     <g id=\"line2d_22\">\r\n      <g>\r\n       <use style=\"stroke:#000000;stroke-width:0.8;\" x=\"859.41737\" xlink:href=\"#m9b18cbfbe3\" y=\"141.463219\"/>\r\n      </g>\r\n     </g>\r\n     <g id=\"text_21\">\r\n      <!-- 0.6 -->\r\n      <g transform=\"translate(836.514245 145.262437)scale(0.1 -0.1)\">\r\n       <use xlink:href=\"#DejaVuSans-48\"/>\r\n       <use x=\"63.623047\" xlink:href=\"#DejaVuSans-46\"/>\r\n       <use x=\"95.410156\" xlink:href=\"#DejaVuSans-54\"/>\r\n      </g>\r\n     </g>\r\n    </g>\r\n    <g id=\"ytick_10\">\r\n     <g id=\"line2d_23\">\r\n      <g>\r\n       <use style=\"stroke:#000000;stroke-width:0.8;\" x=\"859.41737\" xlink:href=\"#m9b18cbfbe3\" y=\"76.231219\"/>\r\n      </g>\r\n     </g>\r\n     <g id=\"text_22\">\r\n      <!-- 0.8 -->\r\n      <g transform=\"translate(836.514245 80.030438)scale(0.1 -0.1)\">\r\n       <use xlink:href=\"#DejaVuSans-48\"/>\r\n       <use x=\"63.623047\" xlink:href=\"#DejaVuSans-46\"/>\r\n       <use x=\"95.410156\" xlink:href=\"#DejaVuSans-56\"/>\r\n      </g>\r\n     </g>\r\n    </g>\r\n    <g id=\"ytick_11\">\r\n     <g id=\"line2d_24\">\r\n      <g>\r\n       <use style=\"stroke:#000000;stroke-width:0.8;\" x=\"859.41737\" xlink:href=\"#m9b18cbfbe3\" y=\"10.999219\"/>\r\n      </g>\r\n     </g>\r\n     <g id=\"text_23\">\r\n      <!-- 1.0 -->\r\n      <g transform=\"translate(836.514245 14.798438)scale(0.1 -0.1)\">\r\n       <use xlink:href=\"#DejaVuSans-49\"/>\r\n       <use x=\"63.623047\" xlink:href=\"#DejaVuSans-46\"/>\r\n       <use x=\"95.410156\" xlink:href=\"#DejaVuSans-48\"/>\r\n      </g>\r\n     </g>\r\n    </g>\r\n   </g>\r\n   <g id=\"patch_16\">\r\n    <path d=\"M 859.41737 337.159219 \r\nL 859.41737 10.999219 \r\n\" style=\"fill:none;stroke:#000000;stroke-linecap:square;stroke-linejoin:miter;stroke-width:0.8;\"/>\r\n   </g>\r\n   <g id=\"patch_17\">\r\n    <path d=\"M 1149.2875 337.159219 \r\nL 1149.2875 10.999219 \r\n\" style=\"fill:none;stroke:#000000;stroke-linecap:square;stroke-linejoin:miter;stroke-width:0.8;\"/>\r\n   </g>\r\n   <g id=\"patch_18\">\r\n    <path d=\"M 859.41737 337.159219 \r\nL 1149.2875 337.159219 \r\n\" style=\"fill:none;stroke:#000000;stroke-linecap:square;stroke-linejoin:miter;stroke-width:0.8;\"/>\r\n   </g>\r\n   <g id=\"patch_19\">\r\n    <path d=\"M 859.41737 10.999219 \r\nL 1149.2875 10.999219 \r\n\" style=\"fill:none;stroke:#000000;stroke-linecap:square;stroke-linejoin:miter;stroke-width:0.8;\"/>\r\n   </g>\r\n  </g>\r\n </g>\r\n <defs>\r\n  <clipPath id=\"p5b7ec486cd\">\r\n   <rect height=\"326.16\" width=\"724.675325\" x=\"33.2875\" y=\"10.999219\"/>\r\n  </clipPath>\r\n </defs>\r\n</svg>\r\n",
      "image/png": "[encoded data removed]"
     },
     "metadata": {
      "needs_background": "light"
     }
    }
   ],
   "metadata": {}
  },
  {
   "cell_type": "code",
   "execution_count": null,
   "source": [
    "fig, ax = plt.subplots(nrows=2, figsize=(20,8))\r\n",
    "\r\n",
    "# plot closed prices and highlighted trades\r\n",
    "ax[0].plot(stock.data[\"Close\"], color=\"b\")\r\n",
    "for i, val in enumerate(bdg):\r\n",
    "    ax[0].axvspan(val, sdg[i], alpha=0.3, color=\"g\")\r\n",
    "for i, val in enumerate(bdb):\r\n",
    "    ax[0].axvspan(val, sdb[i], alpha=0.3, color=\"r\")\r\n",
    "ax[0].set_title(ticker + \": Overview of trades\", fontsize=20)\r\n",
    "ax[0].set_ylabel(\"Close price [USD]\", fontsize=16)\r\n",
    "ax[0].set_xlim([0, stock.data.shape[0]])\r\n",
    "\r\n",
    "ax[1].plot(ind.stoch(stock.data, period=21, sk=3, sd=5)[\"k\"])\r\n",
    "ax[1].plot(ind.stoch(stock.data, period=21, sk=3, sd=5)[\"d\"])\r\n",
    "ax[1].set_xlim([0, stock.data.shape[0]])\r\n",
    "ax[1].set_xlabel(\"Index [-]\", fontsize=16)"
   ],
   "outputs": [],
   "metadata": {}
  }
 ],
 "metadata": {
  "orig_nbformat": 4,
  "language_info": {
   "name": "python",
   "version": "3.9.5",
   "mimetype": "text/x-python",
   "codemirror_mode": {
    "name": "ipython",
    "version": 3
   },
   "pygments_lexer": "ipython3",
   "nbconvert_exporter": "python",
   "file_extension": ".py"
  },
  "kernelspec": {
   "name": "python3",
   "display_name": "Python 3.9.5 64-bit (conda)"
  },
  "interpreter": {
   "hash": "0d0b38822259f8116a03f05c34cfa0235084065e1c7246efe532ebb10e7723c6"
  }
 },
 "nbformat": 4,
 "nbformat_minor": 2
}