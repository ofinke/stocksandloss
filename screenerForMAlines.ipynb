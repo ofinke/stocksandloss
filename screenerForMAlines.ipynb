{
 "cells": [
  {
   "cell_type": "markdown",
   "source": [
    "# Single analysis notebook\r\n",
    "\r\n",
    "This notebook aims to create enviroment to simply test strategies developed in Stocks & Loss system for python"
   ],
   "metadata": {}
  },
  {
   "cell_type": "code",
   "execution_count": null,
   "source": [
    "# imports \r\n",
    "from scraper import stock_daily\r\n",
    "from analyzer import Analyzer\r\n",
    "from IPython.display import display\r\n",
    "import pandas as pd\r\n",
    "import datetime as dt\r\n",
    "import numpy as np\r\n",
    "import matplotlib.pyplot as plt\r\n",
    "import indicators as ind\r\n",
    "import warnings\r\n",
    "\r\n",
    "warnings.filterwarnings('ignore')"
   ],
   "outputs": [],
   "metadata": {}
  },
  {
   "cell_type": "markdown",
   "source": [
    "## Settings\r\n",
    "* Select stock ticker\r\n",
    "* Define buy and sell strategy (buystrat and sellstrat)\r\n",
    "* Define if you want to run stop loss and what value\r\n",
    "* Same with profit taker"
   ],
   "metadata": {}
  },
  {
   "cell_type": "code",
   "execution_count": null,
   "source": [
    "xls = pd.ExcelFile('tickers.xlsx')\r\n",
    "# stop loss\r\n",
    "sl = True\r\n",
    "slval = 0.04\r\n",
    "# profit taker\r\n",
    "pt = False\r\n",
    "ptval = 0.2\r\n",
    "# repeteated buys\r\n",
    "rb = False"
   ],
   "outputs": [],
   "metadata": {}
  },
  {
   "cell_type": "markdown",
   "source": [
    "## Running calculation"
   ],
   "metadata": {}
  },
  {
   "cell_type": "code",
   "execution_count": null,
   "source": [
    "chosen = pd.DataFrame()\r\n",
    "fundTickers = pd.DataFrame()\r\n",
    "Tickers = pd.DataFrame()\r\n",
    "fundTickers[\"Fund/sector name\"] = xls.sheet_names\r\n",
    "print(fundTickers)\r\n",
    "# Tickers = pd.DataFrame(,columns=funTickers[\"Index fund name\"])\r\n",
    "for i in range(len(xls.sheet_names)):\r\n",
    "    sheet1 = pd.read_excel(xls, i)\r\n",
    "    fundTickers.loc[i,[\"Fund/sector ticker\"]] = sheet1.columns[1]\r\n",
    "    Tickers[fundTickers.loc[i,[\"Fund/sector name\"]]] = sheet1[sheet1.columns[1]][1:]\r\n",
    "pd.set_option('display.expand_frame_repr', False)    \r\n",
    "# display(Tickers)\r\n",
    "# I have the initialization here on purpose, to measure its impact\r\n",
    "col = [\"Ticker\", \"Trades\", \"Good trades\", \"Profit[%]\", \"Profit[$]\", \"Hold[%]\"]\r\n",
    "results = [None] * Tickers.columns.shape[0]\r\n",
    "for k in range(Tickers.columns.shape[0]):\r\n",
    "    # when I tried to initialize results as [dataframe] * 10 it created list of identical dataframes and when i changed one, it changed them all. Interesting\r\n",
    "    results[k] = pd.DataFrame(data=np.zeros([Tickers.shape[0], len(col)]),columns=col)\r\n",
    "# iterate over columns\r\n",
    "i = 0 \r\n",
    "for label, tic in Tickers.iteritems():\r\n",
    "    print(label)\r\n",
    "    # iterate over items in sectors / indexes\r\n",
    "    for j, val in tic.iteritems():\r\n",
    "        # j starts at 1, instead of usual 0 => reason why there is -1 everywhere\r\n",
    "        # analyze stock\r\n",
    "        try:\r\n",
    "            stock = stock_daily(val, save=False)\r\n",
    "            trades = Analyzer(ticker=val,data=stock.data)\r\n",
    "            SMA = 200\r\n",
    "            bounces = trades.bouncesFrom_SMA(SMA)\r\n",
    "            smaLine=ind.sma(stock.data,SMA,price=\"Close\")[\"SMA\"]\r\n",
    "            dropsBelowSMA = np.where(stock.data[\"Close\"][-200:]-smaLine[-200:]<0)[0]  #we look at stock that are above the given SMA line for the past 100 days\r\n",
    "            if bounces.size>1 and dropsBelowSMA.size == 0 and (stock.data[\"Close\"].iat[-1]-smaLine.iat[-1])/smaLine.iloc[-1]<0.05: #previous bounces from SMA, above SMA for 100 days and just above SMA the previous day\r\n",
    "                chosen = chosen.append({\"Bounces\": bounces.size,\"MA\": SMA,\"Ticker\": stock.ticker}, ignore_index=True)\r\n",
    "                # print(stock.ticker,\"had\",bounces.size,\"bounces from \",SMA,\"SMA in the past\",SMA,\"days and is currently <5% higher.\")            \r\n",
    "            SMA = 150\r\n",
    "            bounces = trades.bouncesFrom_SMA(SMA)\r\n",
    "            smaLine=ind.sma(stock.data,SMA,price=\"Close\")[\"SMA\"]\r\n",
    "            dropsBelowSMA = np.where(stock.data[\"Close\"][-150:]-smaLine[-150:]<0)[0]\r\n",
    "            if bounces.size>1 and dropsBelowSMA.size == 0 and (stock.data[\"Close\"].iat[-1]-smaLine.iat[-1])/smaLine.iat[-1]<0.05:\r\n",
    "                chosen = chosen.append({\"Bounces\": bounces.size,\"MA\": SMA,\"Ticker\": stock.ticker}, ignore_index=True)\r\n",
    "                # print(stock.ticker,\"had\",bounces.size,\"bounces from \",SMA,\"SMA in the past\",SMA,\"days and is currently <5% higher.\")           \r\n",
    "            SMA = 100\r\n",
    "            bounces = trades.bouncesFrom_SMA(SMA)\r\n",
    "            smaLine=ind.sma(stock.data,SMA,price=\"Close\")[\"SMA\"]\r\n",
    "            dropsBelowSMA = np.where(stock.data[\"Close\"][-100:]-smaLine[-100:]<0)[0]\r\n",
    "            if bounces.size>1 and dropsBelowSMA.size == 0 and (stock.data[\"Close\"].iat[-1]-smaLine.iat[-1])/smaLine.iat[-1]<0.05:\r\n",
    "                chosen = chosen.append({\"Bounces\": bounces.size,\"MA\": SMA,\"Ticker\": stock.ticker}, ignore_index=True)\r\n",
    "                # print(stock.ticker,\"had\",bounces.size,\"bounces from \",SMA,\"SMA in the past\",SMA,\"days and is currently <5% higher.\")                \r\n",
    "            SMA = 50\r\n",
    "            bounces = trades.bouncesFrom_SMA(SMA)\r\n",
    "            smaLine=ind.sma(stock.data,SMA,price=\"Close\")[\"SMA\"]\r\n",
    "            dropsBelowSMA = np.where(stock.data[\"Close\"][-50:]-smaLine[-50:]<0)[0]\r\n",
    "            if bounces.size>1 and dropsBelowSMA.size == 0 and (stock.data[\"Close\"].iat[-1]-smaLine.iat[-1])/smaLine.iat[-1]<0.05:\r\n",
    "                chosen = chosen.append({\"Bounces\": bounces.size,\"MA\": SMA,\"Ticker\": stock.ticker}, ignore_index=True)\r\n",
    "                # print(stock.ticker,\"had\",bounces.size,\"bounces from \",SMA,\"SMA in the past\",SMA,\"days and is currently <5% higher.\")                    \r\n",
    "            SMA = 26\r\n",
    "            bounces = trades.bouncesFrom_SMA(SMA)\r\n",
    "            smaLine=ind.sma(stock.data,SMA,price=\"Close\")[\"SMA\"]\r\n",
    "            dropsBelowSMA = np.where(stock.data[\"Close\"][-26:]-smaLine[-26:]<0)[0]\r\n",
    "            if bounces.size>1 and dropsBelowSMA.size == 0 and (stock.data[\"Close\"].iat[-1]-smaLine.iat[-1])/smaLine.iat[-1]<0.05:\r\n",
    "                chosen = chosen.append({\"Bounces\": bounces.size,\"MA\": SMA,\"Ticker\": stock.ticker}, ignore_index=True)\r\n",
    "                # print(stock.ticker,\"had\",bounces.size,\"bounces from \",SMA,\"SMA in the past\",SMA,\"days and is currently <5% higher.\")                       \r\n",
    "            SMA = 13\r\n",
    "            bounces = trades.bouncesFrom_SMA(SMA)\r\n",
    "            smaLine=ind.sma(stock.data,SMA,price=\"Close\")[\"SMA\"]\r\n",
    "            dropsBelowSMA = np.where(stock.data[\"Close\"][-13:]-smaLine[-13:]<0)[0]\r\n",
    "            if bounces.size>1 and dropsBelowSMA.size == 0 and (stock.data[\"Close\"].iat[-1]-smaLine.iat[-1])/smaLine.iat[-1]<0.05:\r\n",
    "                chosen = chosen.append({\"Bounces\": bounces.size,\"MA\": SMA,\"Ticker\": stock.ticker}, ignore_index=True)\r\n",
    "                # print(stock.ticker,\"had\",bounces.size,\"bounces from \",SMA,\"SMA in the past\",SMA,\"days and is currently <5% higher.\")                    \r\n",
    "        except:\r\n",
    "            results[i].loc[j-1,[\"Ticker\"]] = val         "
   ],

   "outputs": [],

   "metadata": {}
  },
  {
   "cell_type": "markdown",
   "source": [
    "## Building the trade strategy"
   ],
   "metadata": {}
  },
  {
   "cell_type": "code",

   "execution_count": null,

   "source": [
    "# building buy signals\r\n",
    "# defining uptrend\r\n",
    "up = (ind.ema(stock.data, w=13)[\"EMA\"] > ind.ema(stock.data, w=50)[\"EMA\"]).to_numpy()\r\n",
    "# buy signals in uptrend\r\n",
    "bsu = np.logical_and(trades.mb_stoch(period=21, sk=3, sd=5, treshold=20), up)\r\n",
    "# buy signals in downtrend\r\n",
    "bsd = np.logical_and(trades.mb_stoch(period=21, sk=3, sd=5, treshold=50), np.logical_not(up))\r\n",
    "# finalize buy signals\r\n",
    "bsf = np.logical_or(bsu, bsd)\r\n",
    "#buy signal from sma cross\r\n",
    "\r\n",
    "# throw exception if buy signal is empty\r\n",
    "if bsf.sum() == 0:\r\n",
    "    raise RuntimeError(\"No buy signals were generated by this strategy.\")\r\n",
    "# for N buy signals, create N sell vectors where Nth column will be the sell signal for Nth buy signal, \r\n",
    "# some sell methods that are independent will have copied columns\r\n",
    "bsf2 = bsf*1\r\n",
    "ss = trades.ms_smacross(fast=5, slow=20)\r\n",
    "\r\n",
    "ssf = np.repeat([ss,], repeats=np.sum(bsf), axis=0)\r\n",
    "# sort signals \r\n",
    "ss = trades.signalSorter(bsf2,ssf,rb) "
   ],
   "outputs": [],
   "metadata": {}
  },
  {
   "cell_type": "code",

   "execution_count": null,

   "source": [
    "# building final strategy\r\n",
    "trades.strategy(ss, stopLoss=sl, stopLossValue=slval, profitTaker=pt, profitTakerValue=ptval)\r\n",
    "# evaluating strategy\r\n",
    "summary = trades.profit(capitalForEachTrade=400, comission=2)\r\n",
    "profitByHolding = 100*((trades.data[\"Close\"].iloc[-1]-trades.data[\"Close\"].iloc[0])/trades.data[\"Close\"].iloc[0])\r\n",
    "\r\n",
    "# dates for plot\r\n",
    "# taking stock.data and changing index to column and Date to index\r\n",
    "dates = stock.data.copy()\r\n",
    "dates[\"index1\"] = dates.index\r\n",
    "dates = dates.set_index(\"Date\")\r\n",
    "\r\n",
    "# find index of buy dates of good trades\r\n",
    "bdg = summary[\"Buy date\"].where(summary[\"Good trade?\"].astype(\"bool\")).dropna().to_numpy()\r\n",
    "sdg = summary[\"Sell date\"].where(summary[\"Good trade?\"].astype(\"bool\")).dropna().to_numpy()\r\n",
    "bdg = dates[\"index1\"].reindex(bdg).to_numpy()\r\n",
    "sdg = dates[\"index1\"].reindex(sdg).to_numpy()\r\n",
    "   \r\n",
    "# find index of buy dates of bad trades\r\n",
    "bdb = summary[\"Buy date\"].where(~summary[\"Good trade?\"].astype(\"bool\")).dropna().to_numpy()\r\n",
    "sdb = summary[\"Sell date\"].where(~summary[\"Good trade?\"].astype(\"bool\")).dropna().to_numpy()\r\n",
    "bdb = dates[\"index1\"].reindex(bdb).to_numpy()\r\n",
    "sdb = dates[\"index1\"].reindex(sdb).to_numpy()"
   ],
   "outputs": [],
   "metadata": {}
  },
  {
   "cell_type": "markdown",
   "source": [
    "# Results"
   ],
   "metadata": {}
  },
  {
   "cell_type": "code",

   "execution_count": null,

   "source": [
    "print('Absolute profit last year:                ',np.round(summary[\"Profit[$]\"].sum(),2),'$')\r\n",
    "print('Relative profit last year:                ',np.round(summary[\"Profit[%]\"].sum(),2),'%')\r\n",
    "print('Relative profit by holding last year:     ',np.round(profitByHolding,2),'%')"
   ],

   "outputs": [],

   "metadata": {}
  },
  {
   "cell_type": "code",
   "execution_count": null,
   "source": [
    "display(summary)"
   ],
   "outputs": [],

   "metadata": {}
  },
  {
   "cell_type": "markdown",
   "source": [
    "## Visualizations\r\n",
    "\r\n",
    "Successful trades are showcased as a light green fill, similarly, failed trades as a red fill"
   ],
   "metadata": {}
  },
  {
   "cell_type": "code",

   "execution_count": null,

   "source": [
    "fig, ax = plt.subplots(ncols=2, figsize=(20,6), gridspec_kw={'width_ratios': [2.5, 1]})\r\n",
    "\r\n",
    "# plot closed prices and highlighted trades\r\n",
    "ax[0].plot(stock.data[\"Close\"], color=\"b\")\r\n",
    "for i, val in enumerate(bdg):\r\n",
    "    ax[0].axvspan(val, sdg[i], alpha=0.3, color=\"g\")\r\n",
    "for i, val in enumerate(bdb):\r\n",
    "    ax[0].axvspan(val, sdb[i], alpha=0.3, color=\"r\")\r\n",
    "ax[0].set_title(ticker + \": Overview of trades\", fontsize=20)\r\n",
    "ax[0].set_ylabel(\"Close price [USD]\", fontsize=16)\r\n",
    "ax[0].set_xlabel(\"Index [-]\", fontsize=16)\r\n",
    "\r\n",
    "gtrades = summary[\"Good trade?\"].sum()\r\n",
    "trades = summary[\"Good trade?\"].size\r\n",
    "# plot piechart with percentage of succesful trades (profit / loss)\r\n",
    "ax[1].pie([gtrades, trades-gtrades], colors=[\"g\",\"r\"], shadow=True, explode=(0.1, 0), autopct=\"%1.1f%%\")\r\n",
    "ax[1].set_title(\"Success rate of trades\", fontsize=20)\r\n",
    "\r\n",
    "fig.tight_layout()"
   ],

   "outputs": [],

   "metadata": {}
  },
  {
   "cell_type": "code",
   "execution_count": null,
   "source": [
    "fig, ax = plt.subplots(nrows=2, figsize=(20,8))\r\n",
    "\r\n",
    "# plot closed prices and highlighted trades\r\n",
    "ax[0].plot(stock.data[\"Close\"], color=\"b\")\r\n",
    "for i, val in enumerate(bdg):\r\n",
    "    ax[0].axvspan(val, sdg[i], alpha=0.3, color=\"g\")\r\n",
    "for i, val in enumerate(bdb):\r\n",
    "    ax[0].axvspan(val, sdb[i], alpha=0.3, color=\"r\")\r\n",
    "ax[0].set_title(ticker + \": Overview of trades\", fontsize=20)\r\n",
    "ax[0].set_ylabel(\"Close price [USD]\", fontsize=16)\r\n",
    "ax[0].set_xlim([0, stock.data.shape[0]])\r\n",
    "\r\n",
    "ax[1].plot(ind.stoch(stock.data, period=21, sk=3, sd=5)[\"k\"])\r\n",
    "ax[1].plot(ind.stoch(stock.data, period=21, sk=3, sd=5)[\"d\"])\r\n",
    "ax[1].set_xlim([0, stock.data.shape[0]])\r\n",
    "ax[1].set_xlabel(\"Index [-]\", fontsize=16)"
   ],
   "outputs": [],
   "metadata": {}
  }
 ],
 "metadata": {
  "orig_nbformat": 4,
  "language_info": {
   "name": "python",
   "version": "3.7.10",
   "mimetype": "text/x-python",
   "codemirror_mode": {
    "name": "ipython",
    "version": 3
   },
   "pygments_lexer": "ipython3",
   "nbconvert_exporter": "python",
   "file_extension": ".py"
  },
  "kernelspec": {
   "name": "python3",
   "display_name": "Python 3.7.10 64-bit ('base': conda)"
  },
  "interpreter": {
   "hash": "b3ba2566441a7c06988d0923437866b63cedc61552a5af99d1f4fb67d367b25f"
  }
 },
 "nbformat": 4,
 "nbformat_minor": 2
}