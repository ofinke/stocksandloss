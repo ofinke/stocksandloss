{
 "cells": [
  {
   "cell_type": "markdown",
   "source": [
    "# Single analysis notebook\r\n",
    "\r\n",
    "This notebook aims to create enviroment to simply test strategies developed in Stocks & Loss system for python"
   ],
   "metadata": {}
  },
  {
   "cell_type": "code",
   "execution_count": 14,
   "source": [
    "# imports \r\n",
    "from scraper import stock_daily\r\n",
    "from analyzer import Analyzer\r\n",
    "from IPython.display import display\r\n",
    "import pandas as pd\r\n",
    "import datetime as dt\r\n",
    "import numpy as np\r\n",
    "import matplotlib.pyplot as plt\r\n",
    "import indicators as ind\r\n",
    "import warnings\r\n",
    "\r\n",
    "warnings.filterwarnings('ignore')"
   ],
   "outputs": [],
   "metadata": {}
  },
  {
   "cell_type": "markdown",
   "source": [
    "## Settings\r\n",
    "* Select stock ticker\r\n",
    "* Define buy and sell strategy (buystrat and sellstrat)\r\n",
    "* Define if you want to run stop loss and what value\r\n",
    "* Same with profit taker"
   ],
   "metadata": {}
  },
  {
   "cell_type": "code",
   "execution_count": 15,
   "source": [
    "xls = pd.ExcelFile('TickerNasdaq.xls')\r\n",
    "# stop loss\r\n",
    "sl = True\r\n",
    "slval = 0.04\r\n",
    "# profit taker\r\n",
    "pt = False\r\n",
    "ptval = 0.2\r\n",
    "# repeteated buys\r\n",
    "rb = False"
   ],
   "outputs": [],
   "metadata": {}
  },
  {
   "cell_type": "markdown",
   "source": [
    "## Running calculation"
   ],
   "metadata": {}
  },
  {
   "cell_type": "code",
   "execution_count": 16,
   "source": [
    "chosen = pd.DataFrame()\r\n",
    "fundTickers = pd.DataFrame()\r\n",
    "Tickers = pd.DataFrame()\r\n",
    "fundTickers[\"Fund/sector name\"] = xls.sheet_names\r\n",
    "# print(fundTickers)\r\n",
    "# Tickers = pd.DataFrame(,columns=funTickers[\"Index fund name\"])\r\n",
    "for i in range(len(xls.sheet_names)):\r\n",
    "    sheet1 = pd.read_excel(xls, i)\r\n",
    "    fundTickers.loc[i,[\"Fund/sector ticker\"]] = sheet1.columns[1]\r\n",
    "    Tickers[fundTickers.loc[i,[\"Fund/sector name\"]]] = sheet1[sheet1.columns[1]][1:]\r\n",
    "pd.set_option('display.expand_frame_repr', False)    \r\n",
    "# display(Tickers)\r\n",
    "# I have the initialization here on purpose, to measure its impact\r\n",
    "col = [\"Ticker\", \"Trades\", \"Good trades\", \"Profit[%]\", \"Profit[$]\", \"Hold[%]\"]\r\n",
    "results = [None] * Tickers.columns.shape[0]\r\n",
    "for k in range(Tickers.columns.shape[0]):\r\n",
    "    # when I tried to initialize results as [dataframe] * 10 it created list of identical dataframes and when i changed one, it changed them all. Interesting\r\n",
    "    results[k] = pd.DataFrame(data=np.zeros([Tickers.shape[0], len(col)]),columns=col)\r\n",
    "# iterate over columns\r\n",
    "i = 0 \r\n",
    "# print(results)\r\n",
    "for label, tic in Tickers.iteritems():\r\n",
    "    # print(tic)\r\n",
    "    # iterate over items in sectors / indexes\r\n",
    "    for j, val in tic.iteritems():\r\n",
    "        # j starts at 1, instead of usual 0 => reason why there is -1 everywhere\r\n",
    "        # analyze stock\r\n",
    "        try:\r\n",
    "            stock = stock_daily(val, save=False)\r\n",
    "            trades = Analyzer(ticker=val,data=stock.data)\r\n",
    "            supportLevels = trades.supportLevels()\r\n",
    "            resistanceLevels = trades.resistanceLevels()\r\n",
    "            smaLine=ind.sma(stock.data,200,price=\"Close\")[\"SMA\"]\r\n",
    "            # print(supportLevels[0])\r\n",
    "            for i in range(len(supportLevels)):\r\n",
    "                #check for similar values\r\n",
    "                # print(i)\r\n",
    "                # print(supportLevels[0:i+1])\r\n",
    "                # print(supportLevels[0:i])\r\n",
    "                # print(supportLevels[i-1]-supportLevels[i])\r\n",
    "                if i==0:\r\n",
    "                    if (stock.data[\"Close\"].iat[-1]-supportLevels[i])/supportLevels[i]<0.02 and stock.data[\"Close\"].iat[-1]-supportLevels[i]>0 and (stock.data[\"Close\"].iat[-1]-smaLine.iat[-1])>0:\r\n",
    "                        chosen = chosen.append({\"Level type\": 'support',\"Value\": supportLevels[i],\"Ticker\": stock.ticker, \"Current\": stock.data[\"Close\"].iat[-1]}, ignore_index=True)    \r\n",
    "                elif i>0 and all(abs(supportLevels[0:i]-supportLevels[i])/supportLevels[i]>0.005):\r\n",
    "                    if (stock.data[\"Close\"].iat[-1]-supportLevels[i])/supportLevels[i]<0.02 and stock.data[\"Close\"].iat[-1]-supportLevels[i]>0 and (stock.data[\"Close\"].iat[-1]-smaLine.iat[-1])>0:\r\n",
    "                        chosen = chosen.append({\"Level type\": 'support',\"Value\": supportLevels[i],\"Ticker\": stock.ticker, \"Current\": stock.data[\"Close\"].iat[-1]}, ignore_index=True)\r\n",
    "            for i in range(len(resistanceLevels)):\r\n",
    "                if i==0:\r\n",
    "                    if (stock.data[\"Close\"].iat[-1]-resistanceLevels[i])/resistanceLevels[i]<0.02 and stock.data[\"Close\"].iat[-1]-resistanceLevels[i]>0 and (stock.data[\"Close\"].iat[-1]-smaLine.iat[-1])>0:\r\n",
    "                        chosen = chosen.append({\"Level type\": 'resistance',\"Value\": resistanceLevels[i],\"Ticker\": stock.ticker, \"Current\": stock.data[\"Close\"].iat[-1]}, ignore_index=True) \r\n",
    "                elif i>0 and all(abs(resistanceLevels[0:i]-resistanceLevels[i])/resistanceLevels[i]>0.005):\r\n",
    "                    if (stock.data[\"Close\"].iat[-1]-resistanceLevels[i])/resistanceLevels[i]<0.02 and stock.data[\"Close\"].iat[-1]-resistanceLevels[i]>0 and (stock.data[\"Close\"].iat[-1]-smaLine.iat[-1])>0:\r\n",
    "                        chosen = chosen.append({\"Level type\": 'resistance',\"Value\": resistanceLevels[i],\"Ticker\": stock.ticker, \"Current\": stock.data[\"Close\"].iat[-1]}, ignore_index=True) \r\n",
    "        except:\r\n",
    "            print('stock not found')                      "
   ],
   "outputs": [
    {
     "output_type": "stream",
     "name": "stdout",
     "text": [
      "- BRK.B: No data found, symbol may be delisted\n",
      "stock not found\n",
      "stock not found\n",
      "stock not found\n",
      "- SSNLF: No data found for this date range, symbol may be delisted\n",
      "stock not found\n",
      "- RELIANCE: No data found, symbol may be delisted\n",
      "stock not found\n",
      "- VALE3: No data found, symbol may be delisted\n",
      "- HDFC: No data found, symbol may be delisted\n",
      "stock not found\n",
      "stock not found\n",
      "- NHNCF: No data found for this date range, symbol may be delisted\n",
      "stock not found\n"
     ]
    }
   ],
   "metadata": {}
  },
  {
   "cell_type": "code",
   "execution_count": 17,
   "source": [
    "# print(chosen)\r\n",
    "chosen.to_excel('suportyNasdaq.xlsx')\r\n"
   ],
   "outputs": [],
   "metadata": {}
  }
 ],
 "metadata": {
  "orig_nbformat": 4,
  "language_info": {
   "name": "python",
   "version": "3.9.5",
   "mimetype": "text/x-python",
   "codemirror_mode": {
    "name": "ipython",
    "version": 3
   },
   "pygments_lexer": "ipython3",
   "nbconvert_exporter": "python",
   "file_extension": ".py"
  },
  "kernelspec": {
   "name": "python3",
   "display_name": "Python 3.9.5 64-bit (conda)"
  },
  "interpreter": {
   "hash": "0d0b38822259f8116a03f05c34cfa0235084065e1c7246efe532ebb10e7723c6"
  }
 },
 "nbformat": 4,
 "nbformat_minor": 2
}